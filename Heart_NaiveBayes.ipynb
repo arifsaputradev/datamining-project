{
  "nbformat": 4,
  "nbformat_minor": 0,
  "metadata": {
    "colab": {
      "provenance": [],
      "toc_visible": true,
      "collapsed_sections": [
        "q8-YGTZRcUsm"
      ]
    },
    "kernelspec": {
      "name": "python3",
      "display_name": "Python 3"
    },
    "language_info": {
      "name": "python"
    }
  },
  "cells": [
    {
      "cell_type": "markdown",
      "source": [
        "## **Naive Bayes**\n"
      ],
      "metadata": {
        "id": "ARFx9BGn_7HC"
      }
    },
    {
      "cell_type": "markdown",
      "source": [
        "### **Group Member 4**\n",
        "1. Arif Saputra\n",
        "2. Fadly Sofyansyah\n",
        "3. Adam Setiawan\n",
        "4. Fata Dwi Putra\n",
        "5. Anom Innadanuansyah"
      ],
      "metadata": {
        "id": "_3jStE-6AkTQ"
      }
    },
    {
      "cell_type": "markdown",
      "source": [
        "### **Import Libraries**"
      ],
      "metadata": {
        "id": "Eq9XAlpCDBNz"
      }
    },
    {
      "cell_type": "markdown",
      "source": [
        "**numpy** is imported as **np**, used for **efficient numeric operations**\n",
        "\n",
        "**matplotlib.pyplot** is imported as **plt**, used for **plotting and data visualization**\n",
        "\n",
        "**pandas** is imported as **pd**, used for **data manipulation and analysis**"
      ],
      "metadata": {
        "id": "zoTS2inYDpn4"
      }
    },
    {
      "cell_type": "code",
      "source": [
        "import numpy as np\n",
        "import matplotlib.pyplot as plt\n",
        "import pandas as pd"
      ],
      "metadata": {
        "id": "SCQDAAEADHhW"
      },
      "execution_count": 2,
      "outputs": []
    },
    {
      "cell_type": "markdown",
      "source": [
        "### **Reading The Dataset**\n"
      ],
      "metadata": {
        "id": "0rzGh0W8CFow"
      }
    },
    {
      "cell_type": "code",
      "source": [
        "data = pd.read_csv('heart.csv')\n",
        "data.head()"
      ],
      "metadata": {
        "colab": {
          "base_uri": "https://localhost:8080/",
          "height": 206
        },
        "id": "j5OXTYaqCjdf",
        "outputId": "81d3ea9f-b259-4f51-ba77-e040e87579f2"
      },
      "execution_count": 3,
      "outputs": [
        {
          "output_type": "execute_result",
          "data": {
            "text/plain": [
              "   Age Sex ChestPainType  RestingBP  Cholesterol  FastingBS RestingECG  MaxHR  \\\n",
              "0   40   M           ATA        140          289          0     Normal    172   \n",
              "1   49   F           NAP        160          180          0     Normal    156   \n",
              "2   37   M           ATA        130          283          0         ST     98   \n",
              "3   48   F           ASY        138          214          0     Normal    108   \n",
              "4   54   M           NAP        150          195          0     Normal    122   \n",
              "\n",
              "  ExerciseAngina  Oldpeak ST_Slope  HeartDisease  \n",
              "0              N      0.0       Up             0  \n",
              "1              N      1.0     Flat             1  \n",
              "2              N      0.0       Up             0  \n",
              "3              Y      1.5     Flat             1  \n",
              "4              N      0.0       Up             0  "
            ],
            "text/html": [
              "\n",
              "  <div id=\"df-83704ecc-ca12-472b-b7ee-f56e2047234b\">\n",
              "    <div class=\"colab-df-container\">\n",
              "      <div>\n",
              "<style scoped>\n",
              "    .dataframe tbody tr th:only-of-type {\n",
              "        vertical-align: middle;\n",
              "    }\n",
              "\n",
              "    .dataframe tbody tr th {\n",
              "        vertical-align: top;\n",
              "    }\n",
              "\n",
              "    .dataframe thead th {\n",
              "        text-align: right;\n",
              "    }\n",
              "</style>\n",
              "<table border=\"1\" class=\"dataframe\">\n",
              "  <thead>\n",
              "    <tr style=\"text-align: right;\">\n",
              "      <th></th>\n",
              "      <th>Age</th>\n",
              "      <th>Sex</th>\n",
              "      <th>ChestPainType</th>\n",
              "      <th>RestingBP</th>\n",
              "      <th>Cholesterol</th>\n",
              "      <th>FastingBS</th>\n",
              "      <th>RestingECG</th>\n",
              "      <th>MaxHR</th>\n",
              "      <th>ExerciseAngina</th>\n",
              "      <th>Oldpeak</th>\n",
              "      <th>ST_Slope</th>\n",
              "      <th>HeartDisease</th>\n",
              "    </tr>\n",
              "  </thead>\n",
              "  <tbody>\n",
              "    <tr>\n",
              "      <th>0</th>\n",
              "      <td>40</td>\n",
              "      <td>M</td>\n",
              "      <td>ATA</td>\n",
              "      <td>140</td>\n",
              "      <td>289</td>\n",
              "      <td>0</td>\n",
              "      <td>Normal</td>\n",
              "      <td>172</td>\n",
              "      <td>N</td>\n",
              "      <td>0.0</td>\n",
              "      <td>Up</td>\n",
              "      <td>0</td>\n",
              "    </tr>\n",
              "    <tr>\n",
              "      <th>1</th>\n",
              "      <td>49</td>\n",
              "      <td>F</td>\n",
              "      <td>NAP</td>\n",
              "      <td>160</td>\n",
              "      <td>180</td>\n",
              "      <td>0</td>\n",
              "      <td>Normal</td>\n",
              "      <td>156</td>\n",
              "      <td>N</td>\n",
              "      <td>1.0</td>\n",
              "      <td>Flat</td>\n",
              "      <td>1</td>\n",
              "    </tr>\n",
              "    <tr>\n",
              "      <th>2</th>\n",
              "      <td>37</td>\n",
              "      <td>M</td>\n",
              "      <td>ATA</td>\n",
              "      <td>130</td>\n",
              "      <td>283</td>\n",
              "      <td>0</td>\n",
              "      <td>ST</td>\n",
              "      <td>98</td>\n",
              "      <td>N</td>\n",
              "      <td>0.0</td>\n",
              "      <td>Up</td>\n",
              "      <td>0</td>\n",
              "    </tr>\n",
              "    <tr>\n",
              "      <th>3</th>\n",
              "      <td>48</td>\n",
              "      <td>F</td>\n",
              "      <td>ASY</td>\n",
              "      <td>138</td>\n",
              "      <td>214</td>\n",
              "      <td>0</td>\n",
              "      <td>Normal</td>\n",
              "      <td>108</td>\n",
              "      <td>Y</td>\n",
              "      <td>1.5</td>\n",
              "      <td>Flat</td>\n",
              "      <td>1</td>\n",
              "    </tr>\n",
              "    <tr>\n",
              "      <th>4</th>\n",
              "      <td>54</td>\n",
              "      <td>M</td>\n",
              "      <td>NAP</td>\n",
              "      <td>150</td>\n",
              "      <td>195</td>\n",
              "      <td>0</td>\n",
              "      <td>Normal</td>\n",
              "      <td>122</td>\n",
              "      <td>N</td>\n",
              "      <td>0.0</td>\n",
              "      <td>Up</td>\n",
              "      <td>0</td>\n",
              "    </tr>\n",
              "  </tbody>\n",
              "</table>\n",
              "</div>\n",
              "      <button class=\"colab-df-convert\" onclick=\"convertToInteractive('df-83704ecc-ca12-472b-b7ee-f56e2047234b')\"\n",
              "              title=\"Convert this dataframe to an interactive table.\"\n",
              "              style=\"display:none;\">\n",
              "        \n",
              "  <svg xmlns=\"http://www.w3.org/2000/svg\" height=\"24px\"viewBox=\"0 0 24 24\"\n",
              "       width=\"24px\">\n",
              "    <path d=\"M0 0h24v24H0V0z\" fill=\"none\"/>\n",
              "    <path d=\"M18.56 5.44l.94 2.06.94-2.06 2.06-.94-2.06-.94-.94-2.06-.94 2.06-2.06.94zm-11 1L8.5 8.5l.94-2.06 2.06-.94-2.06-.94L8.5 2.5l-.94 2.06-2.06.94zm10 10l.94 2.06.94-2.06 2.06-.94-2.06-.94-.94-2.06-.94 2.06-2.06.94z\"/><path d=\"M17.41 7.96l-1.37-1.37c-.4-.4-.92-.59-1.43-.59-.52 0-1.04.2-1.43.59L10.3 9.45l-7.72 7.72c-.78.78-.78 2.05 0 2.83L4 21.41c.39.39.9.59 1.41.59.51 0 1.02-.2 1.41-.59l7.78-7.78 2.81-2.81c.8-.78.8-2.07 0-2.86zM5.41 20L4 18.59l7.72-7.72 1.47 1.35L5.41 20z\"/>\n",
              "  </svg>\n",
              "      </button>\n",
              "      \n",
              "  <style>\n",
              "    .colab-df-container {\n",
              "      display:flex;\n",
              "      flex-wrap:wrap;\n",
              "      gap: 12px;\n",
              "    }\n",
              "\n",
              "    .colab-df-convert {\n",
              "      background-color: #E8F0FE;\n",
              "      border: none;\n",
              "      border-radius: 50%;\n",
              "      cursor: pointer;\n",
              "      display: none;\n",
              "      fill: #1967D2;\n",
              "      height: 32px;\n",
              "      padding: 0 0 0 0;\n",
              "      width: 32px;\n",
              "    }\n",
              "\n",
              "    .colab-df-convert:hover {\n",
              "      background-color: #E2EBFA;\n",
              "      box-shadow: 0px 1px 2px rgba(60, 64, 67, 0.3), 0px 1px 3px 1px rgba(60, 64, 67, 0.15);\n",
              "      fill: #174EA6;\n",
              "    }\n",
              "\n",
              "    [theme=dark] .colab-df-convert {\n",
              "      background-color: #3B4455;\n",
              "      fill: #D2E3FC;\n",
              "    }\n",
              "\n",
              "    [theme=dark] .colab-df-convert:hover {\n",
              "      background-color: #434B5C;\n",
              "      box-shadow: 0px 1px 3px 1px rgba(0, 0, 0, 0.15);\n",
              "      filter: drop-shadow(0px 1px 2px rgba(0, 0, 0, 0.3));\n",
              "      fill: #FFFFFF;\n",
              "    }\n",
              "  </style>\n",
              "\n",
              "      <script>\n",
              "        const buttonEl =\n",
              "          document.querySelector('#df-83704ecc-ca12-472b-b7ee-f56e2047234b button.colab-df-convert');\n",
              "        buttonEl.style.display =\n",
              "          google.colab.kernel.accessAllowed ? 'block' : 'none';\n",
              "\n",
              "        async function convertToInteractive(key) {\n",
              "          const element = document.querySelector('#df-83704ecc-ca12-472b-b7ee-f56e2047234b');\n",
              "          const dataTable =\n",
              "            await google.colab.kernel.invokeFunction('convertToInteractive',\n",
              "                                                     [key], {});\n",
              "          if (!dataTable) return;\n",
              "\n",
              "          const docLinkHtml = 'Like what you see? Visit the ' +\n",
              "            '<a target=\"_blank\" href=https://colab.research.google.com/notebooks/data_table.ipynb>data table notebook</a>'\n",
              "            + ' to learn more about interactive tables.';\n",
              "          element.innerHTML = '';\n",
              "          dataTable['output_type'] = 'display_data';\n",
              "          await google.colab.output.renderOutput(dataTable, element);\n",
              "          const docLink = document.createElement('div');\n",
              "          docLink.innerHTML = docLinkHtml;\n",
              "          element.appendChild(docLink);\n",
              "        }\n",
              "      </script>\n",
              "    </div>\n",
              "  </div>\n",
              "  "
            ]
          },
          "metadata": {},
          "execution_count": 3
        }
      ]
    },
    {
      "cell_type": "code",
      "source": [
        "data.tail()"
      ],
      "metadata": {
        "colab": {
          "base_uri": "https://localhost:8080/",
          "height": 206
        },
        "id": "KUL63TPYEK2h",
        "outputId": "79b74d54-1554-484c-d7eb-c708c8f1ee23"
      },
      "execution_count": 4,
      "outputs": [
        {
          "output_type": "execute_result",
          "data": {
            "text/plain": [
              "     Age Sex ChestPainType  RestingBP  Cholesterol  FastingBS RestingECG  \\\n",
              "913   45   M            TA        110          264          0     Normal   \n",
              "914   68   M           ASY        144          193          1     Normal   \n",
              "915   57   M           ASY        130          131          0     Normal   \n",
              "916   57   F           ATA        130          236          0        LVH   \n",
              "917   38   M           NAP        138          175          0     Normal   \n",
              "\n",
              "     MaxHR ExerciseAngina  Oldpeak ST_Slope  HeartDisease  \n",
              "913    132              N      1.2     Flat             1  \n",
              "914    141              N      3.4     Flat             1  \n",
              "915    115              Y      1.2     Flat             1  \n",
              "916    174              N      0.0     Flat             1  \n",
              "917    173              N      0.0       Up             0  "
            ],
            "text/html": [
              "\n",
              "  <div id=\"df-af52b7a9-a796-46b3-8b84-6c8cf0e7292b\">\n",
              "    <div class=\"colab-df-container\">\n",
              "      <div>\n",
              "<style scoped>\n",
              "    .dataframe tbody tr th:only-of-type {\n",
              "        vertical-align: middle;\n",
              "    }\n",
              "\n",
              "    .dataframe tbody tr th {\n",
              "        vertical-align: top;\n",
              "    }\n",
              "\n",
              "    .dataframe thead th {\n",
              "        text-align: right;\n",
              "    }\n",
              "</style>\n",
              "<table border=\"1\" class=\"dataframe\">\n",
              "  <thead>\n",
              "    <tr style=\"text-align: right;\">\n",
              "      <th></th>\n",
              "      <th>Age</th>\n",
              "      <th>Sex</th>\n",
              "      <th>ChestPainType</th>\n",
              "      <th>RestingBP</th>\n",
              "      <th>Cholesterol</th>\n",
              "      <th>FastingBS</th>\n",
              "      <th>RestingECG</th>\n",
              "      <th>MaxHR</th>\n",
              "      <th>ExerciseAngina</th>\n",
              "      <th>Oldpeak</th>\n",
              "      <th>ST_Slope</th>\n",
              "      <th>HeartDisease</th>\n",
              "    </tr>\n",
              "  </thead>\n",
              "  <tbody>\n",
              "    <tr>\n",
              "      <th>913</th>\n",
              "      <td>45</td>\n",
              "      <td>M</td>\n",
              "      <td>TA</td>\n",
              "      <td>110</td>\n",
              "      <td>264</td>\n",
              "      <td>0</td>\n",
              "      <td>Normal</td>\n",
              "      <td>132</td>\n",
              "      <td>N</td>\n",
              "      <td>1.2</td>\n",
              "      <td>Flat</td>\n",
              "      <td>1</td>\n",
              "    </tr>\n",
              "    <tr>\n",
              "      <th>914</th>\n",
              "      <td>68</td>\n",
              "      <td>M</td>\n",
              "      <td>ASY</td>\n",
              "      <td>144</td>\n",
              "      <td>193</td>\n",
              "      <td>1</td>\n",
              "      <td>Normal</td>\n",
              "      <td>141</td>\n",
              "      <td>N</td>\n",
              "      <td>3.4</td>\n",
              "      <td>Flat</td>\n",
              "      <td>1</td>\n",
              "    </tr>\n",
              "    <tr>\n",
              "      <th>915</th>\n",
              "      <td>57</td>\n",
              "      <td>M</td>\n",
              "      <td>ASY</td>\n",
              "      <td>130</td>\n",
              "      <td>131</td>\n",
              "      <td>0</td>\n",
              "      <td>Normal</td>\n",
              "      <td>115</td>\n",
              "      <td>Y</td>\n",
              "      <td>1.2</td>\n",
              "      <td>Flat</td>\n",
              "      <td>1</td>\n",
              "    </tr>\n",
              "    <tr>\n",
              "      <th>916</th>\n",
              "      <td>57</td>\n",
              "      <td>F</td>\n",
              "      <td>ATA</td>\n",
              "      <td>130</td>\n",
              "      <td>236</td>\n",
              "      <td>0</td>\n",
              "      <td>LVH</td>\n",
              "      <td>174</td>\n",
              "      <td>N</td>\n",
              "      <td>0.0</td>\n",
              "      <td>Flat</td>\n",
              "      <td>1</td>\n",
              "    </tr>\n",
              "    <tr>\n",
              "      <th>917</th>\n",
              "      <td>38</td>\n",
              "      <td>M</td>\n",
              "      <td>NAP</td>\n",
              "      <td>138</td>\n",
              "      <td>175</td>\n",
              "      <td>0</td>\n",
              "      <td>Normal</td>\n",
              "      <td>173</td>\n",
              "      <td>N</td>\n",
              "      <td>0.0</td>\n",
              "      <td>Up</td>\n",
              "      <td>0</td>\n",
              "    </tr>\n",
              "  </tbody>\n",
              "</table>\n",
              "</div>\n",
              "      <button class=\"colab-df-convert\" onclick=\"convertToInteractive('df-af52b7a9-a796-46b3-8b84-6c8cf0e7292b')\"\n",
              "              title=\"Convert this dataframe to an interactive table.\"\n",
              "              style=\"display:none;\">\n",
              "        \n",
              "  <svg xmlns=\"http://www.w3.org/2000/svg\" height=\"24px\"viewBox=\"0 0 24 24\"\n",
              "       width=\"24px\">\n",
              "    <path d=\"M0 0h24v24H0V0z\" fill=\"none\"/>\n",
              "    <path d=\"M18.56 5.44l.94 2.06.94-2.06 2.06-.94-2.06-.94-.94-2.06-.94 2.06-2.06.94zm-11 1L8.5 8.5l.94-2.06 2.06-.94-2.06-.94L8.5 2.5l-.94 2.06-2.06.94zm10 10l.94 2.06.94-2.06 2.06-.94-2.06-.94-.94-2.06-.94 2.06-2.06.94z\"/><path d=\"M17.41 7.96l-1.37-1.37c-.4-.4-.92-.59-1.43-.59-.52 0-1.04.2-1.43.59L10.3 9.45l-7.72 7.72c-.78.78-.78 2.05 0 2.83L4 21.41c.39.39.9.59 1.41.59.51 0 1.02-.2 1.41-.59l7.78-7.78 2.81-2.81c.8-.78.8-2.07 0-2.86zM5.41 20L4 18.59l7.72-7.72 1.47 1.35L5.41 20z\"/>\n",
              "  </svg>\n",
              "      </button>\n",
              "      \n",
              "  <style>\n",
              "    .colab-df-container {\n",
              "      display:flex;\n",
              "      flex-wrap:wrap;\n",
              "      gap: 12px;\n",
              "    }\n",
              "\n",
              "    .colab-df-convert {\n",
              "      background-color: #E8F0FE;\n",
              "      border: none;\n",
              "      border-radius: 50%;\n",
              "      cursor: pointer;\n",
              "      display: none;\n",
              "      fill: #1967D2;\n",
              "      height: 32px;\n",
              "      padding: 0 0 0 0;\n",
              "      width: 32px;\n",
              "    }\n",
              "\n",
              "    .colab-df-convert:hover {\n",
              "      background-color: #E2EBFA;\n",
              "      box-shadow: 0px 1px 2px rgba(60, 64, 67, 0.3), 0px 1px 3px 1px rgba(60, 64, 67, 0.15);\n",
              "      fill: #174EA6;\n",
              "    }\n",
              "\n",
              "    [theme=dark] .colab-df-convert {\n",
              "      background-color: #3B4455;\n",
              "      fill: #D2E3FC;\n",
              "    }\n",
              "\n",
              "    [theme=dark] .colab-df-convert:hover {\n",
              "      background-color: #434B5C;\n",
              "      box-shadow: 0px 1px 3px 1px rgba(0, 0, 0, 0.15);\n",
              "      filter: drop-shadow(0px 1px 2px rgba(0, 0, 0, 0.3));\n",
              "      fill: #FFFFFF;\n",
              "    }\n",
              "  </style>\n",
              "\n",
              "      <script>\n",
              "        const buttonEl =\n",
              "          document.querySelector('#df-af52b7a9-a796-46b3-8b84-6c8cf0e7292b button.colab-df-convert');\n",
              "        buttonEl.style.display =\n",
              "          google.colab.kernel.accessAllowed ? 'block' : 'none';\n",
              "\n",
              "        async function convertToInteractive(key) {\n",
              "          const element = document.querySelector('#df-af52b7a9-a796-46b3-8b84-6c8cf0e7292b');\n",
              "          const dataTable =\n",
              "            await google.colab.kernel.invokeFunction('convertToInteractive',\n",
              "                                                     [key], {});\n",
              "          if (!dataTable) return;\n",
              "\n",
              "          const docLinkHtml = 'Like what you see? Visit the ' +\n",
              "            '<a target=\"_blank\" href=https://colab.research.google.com/notebooks/data_table.ipynb>data table notebook</a>'\n",
              "            + ' to learn more about interactive tables.';\n",
              "          element.innerHTML = '';\n",
              "          dataTable['output_type'] = 'display_data';\n",
              "          await google.colab.output.renderOutput(dataTable, element);\n",
              "          const docLink = document.createElement('div');\n",
              "          docLink.innerHTML = docLinkHtml;\n",
              "          element.appendChild(docLink);\n",
              "        }\n",
              "      </script>\n",
              "    </div>\n",
              "  </div>\n",
              "  "
            ]
          },
          "metadata": {},
          "execution_count": 4
        }
      ]
    },
    {
      "cell_type": "markdown",
      "source": [
        "### **Preliminary Analysis**"
      ],
      "metadata": {
        "id": "5DXLKFQrENwY"
      }
    },
    {
      "cell_type": "code",
      "source": [
        "data.info()"
      ],
      "metadata": {
        "colab": {
          "base_uri": "https://localhost:8080/"
        },
        "id": "X8zXPtt7EVw9",
        "outputId": "e40c32b0-4816-46d4-e96d-1c1313f853cc"
      },
      "execution_count": 5,
      "outputs": [
        {
          "output_type": "stream",
          "name": "stdout",
          "text": [
            "<class 'pandas.core.frame.DataFrame'>\n",
            "RangeIndex: 918 entries, 0 to 917\n",
            "Data columns (total 12 columns):\n",
            " #   Column          Non-Null Count  Dtype  \n",
            "---  ------          --------------  -----  \n",
            " 0   Age             918 non-null    int64  \n",
            " 1   Sex             918 non-null    object \n",
            " 2   ChestPainType   918 non-null    object \n",
            " 3   RestingBP       918 non-null    int64  \n",
            " 4   Cholesterol     918 non-null    int64  \n",
            " 5   FastingBS       918 non-null    int64  \n",
            " 6   RestingECG      918 non-null    object \n",
            " 7   MaxHR           918 non-null    int64  \n",
            " 8   ExerciseAngina  918 non-null    object \n",
            " 9   Oldpeak         918 non-null    float64\n",
            " 10  ST_Slope        918 non-null    object \n",
            " 11  HeartDisease    918 non-null    int64  \n",
            "dtypes: float64(1), int64(6), object(5)\n",
            "memory usage: 86.2+ KB\n"
          ]
        }
      ]
    },
    {
      "cell_type": "code",
      "source": [
        "data.describe()"
      ],
      "metadata": {
        "colab": {
          "base_uri": "https://localhost:8080/",
          "height": 300
        },
        "id": "Ki2epBk1EZr9",
        "outputId": "98dc5dba-aa9f-40fd-843d-05de2c67684b"
      },
      "execution_count": 6,
      "outputs": [
        {
          "output_type": "execute_result",
          "data": {
            "text/plain": [
              "              Age   RestingBP  Cholesterol   FastingBS       MaxHR  \\\n",
              "count  918.000000  918.000000   918.000000  918.000000  918.000000   \n",
              "mean    53.510893  132.396514   198.799564    0.233115  136.809368   \n",
              "std      9.432617   18.514154   109.384145    0.423046   25.460334   \n",
              "min     28.000000    0.000000     0.000000    0.000000   60.000000   \n",
              "25%     47.000000  120.000000   173.250000    0.000000  120.000000   \n",
              "50%     54.000000  130.000000   223.000000    0.000000  138.000000   \n",
              "75%     60.000000  140.000000   267.000000    0.000000  156.000000   \n",
              "max     77.000000  200.000000   603.000000    1.000000  202.000000   \n",
              "\n",
              "          Oldpeak  HeartDisease  \n",
              "count  918.000000    918.000000  \n",
              "mean     0.887364      0.553377  \n",
              "std      1.066570      0.497414  \n",
              "min     -2.600000      0.000000  \n",
              "25%      0.000000      0.000000  \n",
              "50%      0.600000      1.000000  \n",
              "75%      1.500000      1.000000  \n",
              "max      6.200000      1.000000  "
            ],
            "text/html": [
              "\n",
              "  <div id=\"df-a2cab928-ddf5-4dc4-84ff-60dad5a6ab36\">\n",
              "    <div class=\"colab-df-container\">\n",
              "      <div>\n",
              "<style scoped>\n",
              "    .dataframe tbody tr th:only-of-type {\n",
              "        vertical-align: middle;\n",
              "    }\n",
              "\n",
              "    .dataframe tbody tr th {\n",
              "        vertical-align: top;\n",
              "    }\n",
              "\n",
              "    .dataframe thead th {\n",
              "        text-align: right;\n",
              "    }\n",
              "</style>\n",
              "<table border=\"1\" class=\"dataframe\">\n",
              "  <thead>\n",
              "    <tr style=\"text-align: right;\">\n",
              "      <th></th>\n",
              "      <th>Age</th>\n",
              "      <th>RestingBP</th>\n",
              "      <th>Cholesterol</th>\n",
              "      <th>FastingBS</th>\n",
              "      <th>MaxHR</th>\n",
              "      <th>Oldpeak</th>\n",
              "      <th>HeartDisease</th>\n",
              "    </tr>\n",
              "  </thead>\n",
              "  <tbody>\n",
              "    <tr>\n",
              "      <th>count</th>\n",
              "      <td>918.000000</td>\n",
              "      <td>918.000000</td>\n",
              "      <td>918.000000</td>\n",
              "      <td>918.000000</td>\n",
              "      <td>918.000000</td>\n",
              "      <td>918.000000</td>\n",
              "      <td>918.000000</td>\n",
              "    </tr>\n",
              "    <tr>\n",
              "      <th>mean</th>\n",
              "      <td>53.510893</td>\n",
              "      <td>132.396514</td>\n",
              "      <td>198.799564</td>\n",
              "      <td>0.233115</td>\n",
              "      <td>136.809368</td>\n",
              "      <td>0.887364</td>\n",
              "      <td>0.553377</td>\n",
              "    </tr>\n",
              "    <tr>\n",
              "      <th>std</th>\n",
              "      <td>9.432617</td>\n",
              "      <td>18.514154</td>\n",
              "      <td>109.384145</td>\n",
              "      <td>0.423046</td>\n",
              "      <td>25.460334</td>\n",
              "      <td>1.066570</td>\n",
              "      <td>0.497414</td>\n",
              "    </tr>\n",
              "    <tr>\n",
              "      <th>min</th>\n",
              "      <td>28.000000</td>\n",
              "      <td>0.000000</td>\n",
              "      <td>0.000000</td>\n",
              "      <td>0.000000</td>\n",
              "      <td>60.000000</td>\n",
              "      <td>-2.600000</td>\n",
              "      <td>0.000000</td>\n",
              "    </tr>\n",
              "    <tr>\n",
              "      <th>25%</th>\n",
              "      <td>47.000000</td>\n",
              "      <td>120.000000</td>\n",
              "      <td>173.250000</td>\n",
              "      <td>0.000000</td>\n",
              "      <td>120.000000</td>\n",
              "      <td>0.000000</td>\n",
              "      <td>0.000000</td>\n",
              "    </tr>\n",
              "    <tr>\n",
              "      <th>50%</th>\n",
              "      <td>54.000000</td>\n",
              "      <td>130.000000</td>\n",
              "      <td>223.000000</td>\n",
              "      <td>0.000000</td>\n",
              "      <td>138.000000</td>\n",
              "      <td>0.600000</td>\n",
              "      <td>1.000000</td>\n",
              "    </tr>\n",
              "    <tr>\n",
              "      <th>75%</th>\n",
              "      <td>60.000000</td>\n",
              "      <td>140.000000</td>\n",
              "      <td>267.000000</td>\n",
              "      <td>0.000000</td>\n",
              "      <td>156.000000</td>\n",
              "      <td>1.500000</td>\n",
              "      <td>1.000000</td>\n",
              "    </tr>\n",
              "    <tr>\n",
              "      <th>max</th>\n",
              "      <td>77.000000</td>\n",
              "      <td>200.000000</td>\n",
              "      <td>603.000000</td>\n",
              "      <td>1.000000</td>\n",
              "      <td>202.000000</td>\n",
              "      <td>6.200000</td>\n",
              "      <td>1.000000</td>\n",
              "    </tr>\n",
              "  </tbody>\n",
              "</table>\n",
              "</div>\n",
              "      <button class=\"colab-df-convert\" onclick=\"convertToInteractive('df-a2cab928-ddf5-4dc4-84ff-60dad5a6ab36')\"\n",
              "              title=\"Convert this dataframe to an interactive table.\"\n",
              "              style=\"display:none;\">\n",
              "        \n",
              "  <svg xmlns=\"http://www.w3.org/2000/svg\" height=\"24px\"viewBox=\"0 0 24 24\"\n",
              "       width=\"24px\">\n",
              "    <path d=\"M0 0h24v24H0V0z\" fill=\"none\"/>\n",
              "    <path d=\"M18.56 5.44l.94 2.06.94-2.06 2.06-.94-2.06-.94-.94-2.06-.94 2.06-2.06.94zm-11 1L8.5 8.5l.94-2.06 2.06-.94-2.06-.94L8.5 2.5l-.94 2.06-2.06.94zm10 10l.94 2.06.94-2.06 2.06-.94-2.06-.94-.94-2.06-.94 2.06-2.06.94z\"/><path d=\"M17.41 7.96l-1.37-1.37c-.4-.4-.92-.59-1.43-.59-.52 0-1.04.2-1.43.59L10.3 9.45l-7.72 7.72c-.78.78-.78 2.05 0 2.83L4 21.41c.39.39.9.59 1.41.59.51 0 1.02-.2 1.41-.59l7.78-7.78 2.81-2.81c.8-.78.8-2.07 0-2.86zM5.41 20L4 18.59l7.72-7.72 1.47 1.35L5.41 20z\"/>\n",
              "  </svg>\n",
              "      </button>\n",
              "      \n",
              "  <style>\n",
              "    .colab-df-container {\n",
              "      display:flex;\n",
              "      flex-wrap:wrap;\n",
              "      gap: 12px;\n",
              "    }\n",
              "\n",
              "    .colab-df-convert {\n",
              "      background-color: #E8F0FE;\n",
              "      border: none;\n",
              "      border-radius: 50%;\n",
              "      cursor: pointer;\n",
              "      display: none;\n",
              "      fill: #1967D2;\n",
              "      height: 32px;\n",
              "      padding: 0 0 0 0;\n",
              "      width: 32px;\n",
              "    }\n",
              "\n",
              "    .colab-df-convert:hover {\n",
              "      background-color: #E2EBFA;\n",
              "      box-shadow: 0px 1px 2px rgba(60, 64, 67, 0.3), 0px 1px 3px 1px rgba(60, 64, 67, 0.15);\n",
              "      fill: #174EA6;\n",
              "    }\n",
              "\n",
              "    [theme=dark] .colab-df-convert {\n",
              "      background-color: #3B4455;\n",
              "      fill: #D2E3FC;\n",
              "    }\n",
              "\n",
              "    [theme=dark] .colab-df-convert:hover {\n",
              "      background-color: #434B5C;\n",
              "      box-shadow: 0px 1px 3px 1px rgba(0, 0, 0, 0.15);\n",
              "      filter: drop-shadow(0px 1px 2px rgba(0, 0, 0, 0.3));\n",
              "      fill: #FFFFFF;\n",
              "    }\n",
              "  </style>\n",
              "\n",
              "      <script>\n",
              "        const buttonEl =\n",
              "          document.querySelector('#df-a2cab928-ddf5-4dc4-84ff-60dad5a6ab36 button.colab-df-convert');\n",
              "        buttonEl.style.display =\n",
              "          google.colab.kernel.accessAllowed ? 'block' : 'none';\n",
              "\n",
              "        async function convertToInteractive(key) {\n",
              "          const element = document.querySelector('#df-a2cab928-ddf5-4dc4-84ff-60dad5a6ab36');\n",
              "          const dataTable =\n",
              "            await google.colab.kernel.invokeFunction('convertToInteractive',\n",
              "                                                     [key], {});\n",
              "          if (!dataTable) return;\n",
              "\n",
              "          const docLinkHtml = 'Like what you see? Visit the ' +\n",
              "            '<a target=\"_blank\" href=https://colab.research.google.com/notebooks/data_table.ipynb>data table notebook</a>'\n",
              "            + ' to learn more about interactive tables.';\n",
              "          element.innerHTML = '';\n",
              "          dataTable['output_type'] = 'display_data';\n",
              "          await google.colab.output.renderOutput(dataTable, element);\n",
              "          const docLink = document.createElement('div');\n",
              "          docLink.innerHTML = docLinkHtml;\n",
              "          element.appendChild(docLink);\n",
              "        }\n",
              "      </script>\n",
              "    </div>\n",
              "  </div>\n",
              "  "
            ]
          },
          "metadata": {},
          "execution_count": 6
        }
      ]
    },
    {
      "cell_type": "code",
      "source": [
        "data.isnull().sum()"
      ],
      "metadata": {
        "colab": {
          "base_uri": "https://localhost:8080/"
        },
        "id": "YOqmUibgEeUH",
        "outputId": "e3e24425-e73b-4afe-eb59-009e1292f572"
      },
      "execution_count": 7,
      "outputs": [
        {
          "output_type": "execute_result",
          "data": {
            "text/plain": [
              "Age               0\n",
              "Sex               0\n",
              "ChestPainType     0\n",
              "RestingBP         0\n",
              "Cholesterol       0\n",
              "FastingBS         0\n",
              "RestingECG        0\n",
              "MaxHR             0\n",
              "ExerciseAngina    0\n",
              "Oldpeak           0\n",
              "ST_Slope          0\n",
              "HeartDisease      0\n",
              "dtype: int64"
            ]
          },
          "metadata": {},
          "execution_count": 7
        }
      ]
    },
    {
      "cell_type": "code",
      "source": [
        "data.duplicated().sum()"
      ],
      "metadata": {
        "colab": {
          "base_uri": "https://localhost:8080/"
        },
        "id": "R-Mpjh4_EiaL",
        "outputId": "58520cef-3f7f-4ec3-c657-c9aa169de9c7"
      },
      "execution_count": 8,
      "outputs": [
        {
          "output_type": "execute_result",
          "data": {
            "text/plain": [
              "0"
            ]
          },
          "metadata": {},
          "execution_count": 8
        }
      ]
    },
    {
      "cell_type": "code",
      "source": [
        "data.shape"
      ],
      "metadata": {
        "colab": {
          "base_uri": "https://localhost:8080/"
        },
        "id": "Gccs9sgjNuat",
        "outputId": "3fed99f5-67ed-4395-b82c-4fbd4ff03a2c"
      },
      "execution_count": 9,
      "outputs": [
        {
          "output_type": "execute_result",
          "data": {
            "text/plain": [
              "(918, 12)"
            ]
          },
          "metadata": {},
          "execution_count": 9
        }
      ]
    },
    {
      "cell_type": "code",
      "source": [
        "data.size"
      ],
      "metadata": {
        "colab": {
          "base_uri": "https://localhost:8080/"
        },
        "id": "G1WYa7z1NuJ1",
        "outputId": "3060c812-28f7-4c91-ce4c-5a46c714e78c"
      },
      "execution_count": 10,
      "outputs": [
        {
          "output_type": "execute_result",
          "data": {
            "text/plain": [
              "11016"
            ]
          },
          "metadata": {},
          "execution_count": 10
        }
      ]
    },
    {
      "cell_type": "markdown",
      "source": [
        "### **Exploratory Data Analysis**"
      ],
      "metadata": {
        "id": "T0a0KPJUE3OT"
      }
    },
    {
      "cell_type": "markdown",
      "source": [
        "#### Segregating Columns into Groups"
      ],
      "metadata": {
        "id": "c6AKgCZjFKS9"
      }
    },
    {
      "cell_type": "markdown",
      "source": [
        "\n",
        "\n",
        "\n",
        "*   **Numerical** -> Age, RestingBP, Cholesterol, MaxHR, OldPeak\n",
        "*   **Categorical** -> Sex, ChestPainType, FastingBS, RestingECG, ExerciseAngina, ST_Slope, HeartDisease\n",
        "\n",
        "\n",
        "\n"
      ],
      "metadata": {
        "id": "jTSPSqXMFWqW"
      }
    },
    {
      "cell_type": "markdown",
      "source": [
        "**num** variable to store numerical fields\n",
        "\n",
        "**cat** variable to store categorical fields"
      ],
      "metadata": {
        "id": "H8oN-ipbLyIF"
      }
    },
    {
      "cell_type": "code",
      "source": [
        "num = ['Age','RestingBP','Cholesterol','MaxHR','Oldpeak']\n",
        "cat = ['Sex', 'ChestPainType','FastingBS','RestingECG','ExerciseAngina','ST_Slope','HeartDisease']"
      ],
      "metadata": {
        "id": "JfDI2l1YE7H9"
      },
      "execution_count": 11,
      "outputs": []
    },
    {
      "cell_type": "markdown",
      "source": [
        "#### Checking for Outliers"
      ],
      "metadata": {
        "id": "aAY_FVCOHT1I"
      }
    },
    {
      "cell_type": "markdown",
      "source": [
        "an outlier is a value from the data outside the range or outside the expected value"
      ],
      "metadata": {
        "id": "m-nWBHWBH0S9"
      }
    },
    {
      "cell_type": "code",
      "source": [
        "def count_outliers(data,col):\n",
        "        q1 = data[col].quantile(0.25,interpolation='nearest')\n",
        "        q2 = data[col].quantile(0.5,interpolation='nearest')\n",
        "        q3 = data[col].quantile(0.75,interpolation='nearest')\n",
        "        q4 = data[col].quantile(1,interpolation='nearest')\n",
        "        IQR = q3 -q1\n",
        "        global LLP\n",
        "        global ULP\n",
        "        LLP = q1 - 1.5*IQR\n",
        "        ULP = q3 + 1.5*IQR\n",
        "        if data[col].min() > LLP and data[col].max() < ULP:\n",
        "            print(\"No outliers in\",i)\n",
        "        else:\n",
        "            print(\"There are outliers in\",i)\n",
        "            x = data[data[col]<LLP][col].size\n",
        "            y = data[data[col]>ULP][col].size\n",
        "            a.append(i)\n",
        "            print('Count of outliers are:',x+y)\n",
        "global a\n",
        "a = []\n",
        "for i in num:\n",
        "    count_outliers(data, i)"
      ],
      "metadata": {
        "colab": {
          "base_uri": "https://localhost:8080/"
        },
        "id": "vn5CZrIJHct-",
        "outputId": "d3b8cc02-fcf2-4926-9795-751ab4bc6caa"
      },
      "execution_count": 12,
      "outputs": [
        {
          "output_type": "stream",
          "name": "stdout",
          "text": [
            "No outliers in Age\n",
            "There are outliers in RestingBP\n",
            "Count of outliers are: 28\n",
            "There are outliers in Cholesterol\n",
            "Count of outliers are: 183\n",
            "There are outliers in MaxHR\n",
            "Count of outliers are: 2\n",
            "There are outliers in Oldpeak\n",
            "Count of outliers are: 16\n"
          ]
        }
      ]
    },
    {
      "cell_type": "markdown",
      "source": [
        "### **Data Preprocessing**"
      ],
      "metadata": {
        "id": "bYTuVFr5JFUh"
      }
    },
    {
      "cell_type": "markdown",
      "source": [
        "in this case we convert the values ​​in the column to numeric values"
      ],
      "metadata": {
        "id": "OA0ypiOyJney"
      }
    },
    {
      "cell_type": "markdown",
      "source": [
        "Import the **LabelEncoder** module from the **sklearn.preprocessing** library"
      ],
      "metadata": {
        "id": "OdkTn-stJt2K"
      }
    },
    {
      "cell_type": "code",
      "source": [
        "from sklearn.preprocessing import LabelEncoder"
      ],
      "metadata": {
        "id": "7A6SlHexJmz7"
      },
      "execution_count": 13,
      "outputs": []
    },
    {
      "cell_type": "markdown",
      "source": [
        "Creates an instance of **LabelEncoder()** with the name **enc**"
      ],
      "metadata": {
        "id": "ALi1NGRIJw3o"
      }
    },
    {
      "cell_type": "code",
      "source": [
        "enc = LabelEncoder()"
      ],
      "metadata": {
        "id": "CHWIiKOlJyNC"
      },
      "execution_count": 14,
      "outputs": []
    },
    {
      "cell_type": "markdown",
      "source": [
        "Use **enc** to encode the 'Sex', 'ChestPainType', 'RestingECG', 'ExerciseAngina', and 'ST_Slope' fields in the DataFrame **data**.\n",
        "\n",
        "The encoding results will be saved back to the same column in the DataFrame **data**"
      ],
      "metadata": {
        "id": "LZHQHJOhJ0Fa"
      }
    },
    {
      "cell_type": "code",
      "source": [
        "data['Sex'] = enc.fit_transform(data['Sex'].values)\n",
        "data['ChestPainType'] = enc.fit_transform(data['ChestPainType'].values)\n",
        "data['RestingECG'] = enc.fit_transform(data['RestingECG'].values)\n",
        "data['ExerciseAngina'] = enc.fit_transform(data['ExerciseAngina'].values)\n",
        "data['ST_Slope'] = enc.fit_transform(data['ST_Slope'].values)"
      ],
      "metadata": {
        "id": "17Ml82kTJ02k"
      },
      "execution_count": 15,
      "outputs": []
    },
    {
      "cell_type": "markdown",
      "source": [
        "Check the Data"
      ],
      "metadata": {
        "id": "uW8ICN3GKPJp"
      }
    },
    {
      "cell_type": "code",
      "source": [
        "data.sample(10)"
      ],
      "metadata": {
        "colab": {
          "base_uri": "https://localhost:8080/",
          "height": 363
        },
        "id": "33gZ6ZtrM_D5",
        "outputId": "e94d428f-15d0-46dc-83d4-f685240e8bca"
      },
      "execution_count": 16,
      "outputs": [
        {
          "output_type": "execute_result",
          "data": {
            "text/plain": [
              "     Age  Sex  ChestPainType  RestingBP  Cholesterol  FastingBS  RestingECG  \\\n",
              "485   63    1              1        139          217          1           2   \n",
              "192   48    1              1        130          245          0           1   \n",
              "797   41    1              0        110          172          0           0   \n",
              "677   44    1              2        120          226          0           1   \n",
              "475   59    1              0        178            0          1           0   \n",
              "914   68    1              0        144          193          1           1   \n",
              "252   61    1              0        125          292          0           2   \n",
              "622   59    1              0        110          239          0           0   \n",
              "15    54    0              1        120          273          0           1   \n",
              "416   63    1              0        140          260          0           2   \n",
              "\n",
              "     MaxHR  ExerciseAngina  Oldpeak  ST_Slope  HeartDisease  \n",
              "485    128               1      1.2         1             1  \n",
              "192    160               0      0.0         2             0  \n",
              "797    158               0      0.0         2             1  \n",
              "677    169               0      0.0         2             0  \n",
              "475    120               1      0.0         1             1  \n",
              "914    141               0      3.4         1             1  \n",
              "252    115               1      0.0         2             0  \n",
              "622    142               1      1.2         1             1  \n",
              "15     150               0      1.5         1             0  \n",
              "416    112               1      3.0         1             1  "
            ],
            "text/html": [
              "\n",
              "  <div id=\"df-fd334450-8135-4c73-bebc-0718cddc8312\">\n",
              "    <div class=\"colab-df-container\">\n",
              "      <div>\n",
              "<style scoped>\n",
              "    .dataframe tbody tr th:only-of-type {\n",
              "        vertical-align: middle;\n",
              "    }\n",
              "\n",
              "    .dataframe tbody tr th {\n",
              "        vertical-align: top;\n",
              "    }\n",
              "\n",
              "    .dataframe thead th {\n",
              "        text-align: right;\n",
              "    }\n",
              "</style>\n",
              "<table border=\"1\" class=\"dataframe\">\n",
              "  <thead>\n",
              "    <tr style=\"text-align: right;\">\n",
              "      <th></th>\n",
              "      <th>Age</th>\n",
              "      <th>Sex</th>\n",
              "      <th>ChestPainType</th>\n",
              "      <th>RestingBP</th>\n",
              "      <th>Cholesterol</th>\n",
              "      <th>FastingBS</th>\n",
              "      <th>RestingECG</th>\n",
              "      <th>MaxHR</th>\n",
              "      <th>ExerciseAngina</th>\n",
              "      <th>Oldpeak</th>\n",
              "      <th>ST_Slope</th>\n",
              "      <th>HeartDisease</th>\n",
              "    </tr>\n",
              "  </thead>\n",
              "  <tbody>\n",
              "    <tr>\n",
              "      <th>485</th>\n",
              "      <td>63</td>\n",
              "      <td>1</td>\n",
              "      <td>1</td>\n",
              "      <td>139</td>\n",
              "      <td>217</td>\n",
              "      <td>1</td>\n",
              "      <td>2</td>\n",
              "      <td>128</td>\n",
              "      <td>1</td>\n",
              "      <td>1.2</td>\n",
              "      <td>1</td>\n",
              "      <td>1</td>\n",
              "    </tr>\n",
              "    <tr>\n",
              "      <th>192</th>\n",
              "      <td>48</td>\n",
              "      <td>1</td>\n",
              "      <td>1</td>\n",
              "      <td>130</td>\n",
              "      <td>245</td>\n",
              "      <td>0</td>\n",
              "      <td>1</td>\n",
              "      <td>160</td>\n",
              "      <td>0</td>\n",
              "      <td>0.0</td>\n",
              "      <td>2</td>\n",
              "      <td>0</td>\n",
              "    </tr>\n",
              "    <tr>\n",
              "      <th>797</th>\n",
              "      <td>41</td>\n",
              "      <td>1</td>\n",
              "      <td>0</td>\n",
              "      <td>110</td>\n",
              "      <td>172</td>\n",
              "      <td>0</td>\n",
              "      <td>0</td>\n",
              "      <td>158</td>\n",
              "      <td>0</td>\n",
              "      <td>0.0</td>\n",
              "      <td>2</td>\n",
              "      <td>1</td>\n",
              "    </tr>\n",
              "    <tr>\n",
              "      <th>677</th>\n",
              "      <td>44</td>\n",
              "      <td>1</td>\n",
              "      <td>2</td>\n",
              "      <td>120</td>\n",
              "      <td>226</td>\n",
              "      <td>0</td>\n",
              "      <td>1</td>\n",
              "      <td>169</td>\n",
              "      <td>0</td>\n",
              "      <td>0.0</td>\n",
              "      <td>2</td>\n",
              "      <td>0</td>\n",
              "    </tr>\n",
              "    <tr>\n",
              "      <th>475</th>\n",
              "      <td>59</td>\n",
              "      <td>1</td>\n",
              "      <td>0</td>\n",
              "      <td>178</td>\n",
              "      <td>0</td>\n",
              "      <td>1</td>\n",
              "      <td>0</td>\n",
              "      <td>120</td>\n",
              "      <td>1</td>\n",
              "      <td>0.0</td>\n",
              "      <td>1</td>\n",
              "      <td>1</td>\n",
              "    </tr>\n",
              "    <tr>\n",
              "      <th>914</th>\n",
              "      <td>68</td>\n",
              "      <td>1</td>\n",
              "      <td>0</td>\n",
              "      <td>144</td>\n",
              "      <td>193</td>\n",
              "      <td>1</td>\n",
              "      <td>1</td>\n",
              "      <td>141</td>\n",
              "      <td>0</td>\n",
              "      <td>3.4</td>\n",
              "      <td>1</td>\n",
              "      <td>1</td>\n",
              "    </tr>\n",
              "    <tr>\n",
              "      <th>252</th>\n",
              "      <td>61</td>\n",
              "      <td>1</td>\n",
              "      <td>0</td>\n",
              "      <td>125</td>\n",
              "      <td>292</td>\n",
              "      <td>0</td>\n",
              "      <td>2</td>\n",
              "      <td>115</td>\n",
              "      <td>1</td>\n",
              "      <td>0.0</td>\n",
              "      <td>2</td>\n",
              "      <td>0</td>\n",
              "    </tr>\n",
              "    <tr>\n",
              "      <th>622</th>\n",
              "      <td>59</td>\n",
              "      <td>1</td>\n",
              "      <td>0</td>\n",
              "      <td>110</td>\n",
              "      <td>239</td>\n",
              "      <td>0</td>\n",
              "      <td>0</td>\n",
              "      <td>142</td>\n",
              "      <td>1</td>\n",
              "      <td>1.2</td>\n",
              "      <td>1</td>\n",
              "      <td>1</td>\n",
              "    </tr>\n",
              "    <tr>\n",
              "      <th>15</th>\n",
              "      <td>54</td>\n",
              "      <td>0</td>\n",
              "      <td>1</td>\n",
              "      <td>120</td>\n",
              "      <td>273</td>\n",
              "      <td>0</td>\n",
              "      <td>1</td>\n",
              "      <td>150</td>\n",
              "      <td>0</td>\n",
              "      <td>1.5</td>\n",
              "      <td>1</td>\n",
              "      <td>0</td>\n",
              "    </tr>\n",
              "    <tr>\n",
              "      <th>416</th>\n",
              "      <td>63</td>\n",
              "      <td>1</td>\n",
              "      <td>0</td>\n",
              "      <td>140</td>\n",
              "      <td>260</td>\n",
              "      <td>0</td>\n",
              "      <td>2</td>\n",
              "      <td>112</td>\n",
              "      <td>1</td>\n",
              "      <td>3.0</td>\n",
              "      <td>1</td>\n",
              "      <td>1</td>\n",
              "    </tr>\n",
              "  </tbody>\n",
              "</table>\n",
              "</div>\n",
              "      <button class=\"colab-df-convert\" onclick=\"convertToInteractive('df-fd334450-8135-4c73-bebc-0718cddc8312')\"\n",
              "              title=\"Convert this dataframe to an interactive table.\"\n",
              "              style=\"display:none;\">\n",
              "        \n",
              "  <svg xmlns=\"http://www.w3.org/2000/svg\" height=\"24px\"viewBox=\"0 0 24 24\"\n",
              "       width=\"24px\">\n",
              "    <path d=\"M0 0h24v24H0V0z\" fill=\"none\"/>\n",
              "    <path d=\"M18.56 5.44l.94 2.06.94-2.06 2.06-.94-2.06-.94-.94-2.06-.94 2.06-2.06.94zm-11 1L8.5 8.5l.94-2.06 2.06-.94-2.06-.94L8.5 2.5l-.94 2.06-2.06.94zm10 10l.94 2.06.94-2.06 2.06-.94-2.06-.94-.94-2.06-.94 2.06-2.06.94z\"/><path d=\"M17.41 7.96l-1.37-1.37c-.4-.4-.92-.59-1.43-.59-.52 0-1.04.2-1.43.59L10.3 9.45l-7.72 7.72c-.78.78-.78 2.05 0 2.83L4 21.41c.39.39.9.59 1.41.59.51 0 1.02-.2 1.41-.59l7.78-7.78 2.81-2.81c.8-.78.8-2.07 0-2.86zM5.41 20L4 18.59l7.72-7.72 1.47 1.35L5.41 20z\"/>\n",
              "  </svg>\n",
              "      </button>\n",
              "      \n",
              "  <style>\n",
              "    .colab-df-container {\n",
              "      display:flex;\n",
              "      flex-wrap:wrap;\n",
              "      gap: 12px;\n",
              "    }\n",
              "\n",
              "    .colab-df-convert {\n",
              "      background-color: #E8F0FE;\n",
              "      border: none;\n",
              "      border-radius: 50%;\n",
              "      cursor: pointer;\n",
              "      display: none;\n",
              "      fill: #1967D2;\n",
              "      height: 32px;\n",
              "      padding: 0 0 0 0;\n",
              "      width: 32px;\n",
              "    }\n",
              "\n",
              "    .colab-df-convert:hover {\n",
              "      background-color: #E2EBFA;\n",
              "      box-shadow: 0px 1px 2px rgba(60, 64, 67, 0.3), 0px 1px 3px 1px rgba(60, 64, 67, 0.15);\n",
              "      fill: #174EA6;\n",
              "    }\n",
              "\n",
              "    [theme=dark] .colab-df-convert {\n",
              "      background-color: #3B4455;\n",
              "      fill: #D2E3FC;\n",
              "    }\n",
              "\n",
              "    [theme=dark] .colab-df-convert:hover {\n",
              "      background-color: #434B5C;\n",
              "      box-shadow: 0px 1px 3px 1px rgba(0, 0, 0, 0.15);\n",
              "      filter: drop-shadow(0px 1px 2px rgba(0, 0, 0, 0.3));\n",
              "      fill: #FFFFFF;\n",
              "    }\n",
              "  </style>\n",
              "\n",
              "      <script>\n",
              "        const buttonEl =\n",
              "          document.querySelector('#df-fd334450-8135-4c73-bebc-0718cddc8312 button.colab-df-convert');\n",
              "        buttonEl.style.display =\n",
              "          google.colab.kernel.accessAllowed ? 'block' : 'none';\n",
              "\n",
              "        async function convertToInteractive(key) {\n",
              "          const element = document.querySelector('#df-fd334450-8135-4c73-bebc-0718cddc8312');\n",
              "          const dataTable =\n",
              "            await google.colab.kernel.invokeFunction('convertToInteractive',\n",
              "                                                     [key], {});\n",
              "          if (!dataTable) return;\n",
              "\n",
              "          const docLinkHtml = 'Like what you see? Visit the ' +\n",
              "            '<a target=\"_blank\" href=https://colab.research.google.com/notebooks/data_table.ipynb>data table notebook</a>'\n",
              "            + ' to learn more about interactive tables.';\n",
              "          element.innerHTML = '';\n",
              "          dataTable['output_type'] = 'display_data';\n",
              "          await google.colab.output.renderOutput(dataTable, element);\n",
              "          const docLink = document.createElement('div');\n",
              "          docLink.innerHTML = docLinkHtml;\n",
              "          element.appendChild(docLink);\n",
              "        }\n",
              "      </script>\n",
              "    </div>\n",
              "  </div>\n",
              "  "
            ]
          },
          "metadata": {},
          "execution_count": 16
        }
      ]
    },
    {
      "cell_type": "markdown",
      "source": [
        "### **Split Dataset**"
      ],
      "metadata": {
        "id": "qZr4RE86PU1T"
      }
    },
    {
      "cell_type": "markdown",
      "source": [
        "in this process we divide the dataset into training data **train set** and test data **test set** randomly."
      ],
      "metadata": {
        "id": "v9vkrG71PbKw"
      }
    },
    {
      "cell_type": "markdown",
      "source": [
        "Variable **x** will contain the **features/attributes** that will be used as **input to train** the model"
      ],
      "metadata": {
        "id": "D4nJpe6yPvGJ"
      }
    },
    {
      "cell_type": "code",
      "source": [
        "x = data.drop([\"HeartDisease\"], axis=1)"
      ],
      "metadata": {
        "id": "07Bg2fy4PZ-J"
      },
      "execution_count": 17,
      "outputs": []
    },
    {
      "cell_type": "markdown",
      "source": [
        "Variable **y** will contain the **target value** which will be used when **training and testing** the model"
      ],
      "metadata": {
        "id": "f8Xs5HEUPuW5"
      }
    },
    {
      "cell_type": "code",
      "source": [
        "y = data['HeartDisease']"
      ],
      "metadata": {
        "id": "sZATJITTPtJn"
      },
      "execution_count": 18,
      "outputs": []
    },
    {
      "cell_type": "markdown",
      "source": [
        "Import the **train_test_split** module from the **sklearn.model_selection** library"
      ],
      "metadata": {
        "id": "gcjQTcGfPs1o"
      }
    },
    {
      "cell_type": "code",
      "source": [
        "from sklearn.model_selection import train_test_split"
      ],
      "metadata": {
        "id": "SBv81GLSRbRp"
      },
      "execution_count": 19,
      "outputs": []
    },
    {
      "cell_type": "markdown",
      "source": [
        "Split the dataset into train and test sets\n",
        "\n",
        "**x**: features/input variables\n",
        "\n",
        "**y**: target/output variable\n",
        "\n",
        "**test_size**: proportion of the dataset to be used for testing (0.3 = 30% for testing)\n",
        "\n",
        "**random_state**: seed for random number generation, ensures reproducibility of the split"
      ],
      "metadata": {
        "id": "Ao9qOuneRbmA"
      }
    },
    {
      "cell_type": "code",
      "source": [
        "x_train, x_test, y_train, y_test = train_test_split(x, y, test_size=0.3, random_state=0)"
      ],
      "metadata": {
        "id": "5bbQfzv_RBV9"
      },
      "execution_count": 20,
      "outputs": []
    },
    {
      "cell_type": "markdown",
      "source": [
        "### **Scaling Dataset**"
      ],
      "metadata": {
        "id": "iWp7I4xvSfzH"
      }
    },
    {
      "cell_type": "markdown",
      "source": [
        "the purpose of this process is to perform feature scaling on the training data and test data.\n",
        "\n",
        "Feature scaling using **StandardScaler** aims to change every feature in the data to have a **mean of 0** and a **standard deviation of 1**"
      ],
      "metadata": {
        "id": "iFzHrw9iS2QD"
      }
    },
    {
      "cell_type": "markdown",
      "source": [
        "Import the **StandardScaler** module from the **sklearn.preprocessing** library"
      ],
      "metadata": {
        "id": "6mx6TGOJTAXR"
      }
    },
    {
      "cell_type": "code",
      "source": [
        "from sklearn.preprocessing import StandardScaler"
      ],
      "metadata": {
        "id": "8dgh0UzVSsEL"
      },
      "execution_count": 21,
      "outputs": []
    },
    {
      "cell_type": "markdown",
      "source": [
        "Creates a **sc** object of the **StandardScaler** class"
      ],
      "metadata": {
        "id": "47Q_yRE1TPVH"
      }
    },
    {
      "cell_type": "code",
      "source": [
        "sc = StandardScaler()"
      ],
      "metadata": {
        "id": "q_PTRCFZTS-p"
      },
      "execution_count": 22,
      "outputs": []
    },
    {
      "cell_type": "markdown",
      "source": [
        "Perform feature scaling on **training data** and **test data** by calling the **fit_transform method**"
      ],
      "metadata": {
        "id": "hlKbr6eWTWWI"
      }
    },
    {
      "cell_type": "code",
      "source": [
        "x_train = sc.fit_transform(x_train)\n",
        "x_test = sc.fit_transform(x_test)"
      ],
      "metadata": {
        "id": "lWlFha8XTZ7g"
      },
      "execution_count": 23,
      "outputs": []
    },
    {
      "cell_type": "markdown",
      "source": [
        "Check the Data"
      ],
      "metadata": {
        "id": "jp-jY7AnUVb2"
      }
    },
    {
      "cell_type": "code",
      "source": [
        "print(x_train)"
      ],
      "metadata": {
        "colab": {
          "base_uri": "https://localhost:8080/"
        },
        "id": "vG9SgXkQUW9h",
        "outputId": "fba37301-e8ad-4974-9d0c-cd0213c80b5f"
      },
      "execution_count": 24,
      "outputs": [
        {
          "output_type": "stream",
          "name": "stdout",
          "text": [
            "[[-2.28534906  0.51601569 -0.83123456 ... -0.83034552 -0.84052373\n",
            "  -0.59059305]\n",
            " [-1.86194697  0.51601569  1.27806421 ... -0.83034552  0.10434798\n",
            "  -0.59059305]\n",
            " [-0.27418913  0.51601569 -0.83123456 ... -0.83034552  1.23819403\n",
            "  -0.59059305]\n",
            " ...\n",
            " [ 0.36091401 -1.93792558 -0.83123456 ... -0.83034552 -0.84052373\n",
            "   1.03670626]\n",
            " [ 1.10186767  0.51601569 -0.83123456 ...  1.20431793  2.93896311\n",
            "  -2.21789237]\n",
            " [-0.69759122  0.51601569  1.27806421 ... -0.83034552 -0.84052373\n",
            "   1.03670626]]\n"
          ]
        }
      ]
    },
    {
      "cell_type": "code",
      "source": [
        "print(y_train)"
      ],
      "metadata": {
        "colab": {
          "base_uri": "https://localhost:8080/"
        },
        "id": "vv9ZbfVuUau4",
        "outputId": "ec6a0348-7ad9-44db-a67f-7cc54d536666"
      },
      "execution_count": 25,
      "outputs": [
        {
          "output_type": "stream",
          "name": "stdout",
          "text": [
            "76     1\n",
            "48     0\n",
            "304    1\n",
            "263    1\n",
            "744    1\n",
            "      ..\n",
            "835    1\n",
            "192    0\n",
            "629    0\n",
            "559    1\n",
            "684    1\n",
            "Name: HeartDisease, Length: 642, dtype: int64\n"
          ]
        }
      ]
    },
    {
      "cell_type": "markdown",
      "source": [
        "### **Naive Bayes**"
      ],
      "metadata": {
        "id": "drlFVd0oQ24v"
      }
    },
    {
      "cell_type": "markdown",
      "source": [
        "in this section we use the naive Bayes Classification to classify the data"
      ],
      "metadata": {
        "id": "TKctxTC4Q9Vb"
      }
    },
    {
      "cell_type": "markdown",
      "source": [
        "Import the **GaussianNB** module from the **sklearn.naive_bayes** library"
      ],
      "metadata": {
        "id": "XUovhGHxRmoi"
      }
    },
    {
      "cell_type": "code",
      "source": [
        "from sklearn.naive_bayes import GaussianNB"
      ],
      "metadata": {
        "id": "Jm16JfidRkwh"
      },
      "execution_count": 26,
      "outputs": []
    },
    {
      "cell_type": "markdown",
      "source": [
        "Creates a classifier object as an instance of **GaussianNB**"
      ],
      "metadata": {
        "id": "Noht_ZeORliw"
      }
    },
    {
      "cell_type": "code",
      "source": [
        "classifier = GaussianNB()\n",
        "classifier.fit(x_train, y_train)"
      ],
      "metadata": {
        "colab": {
          "base_uri": "https://localhost:8080/",
          "height": 74
        },
        "id": "T9c8rtkPQ8mT",
        "outputId": "a1d24c69-c7a8-45ef-8dde-6c700e124b92"
      },
      "execution_count": 27,
      "outputs": [
        {
          "output_type": "execute_result",
          "data": {
            "text/plain": [
              "GaussianNB()"
            ],
            "text/html": [
              "<style>#sk-container-id-1 {color: black;background-color: white;}#sk-container-id-1 pre{padding: 0;}#sk-container-id-1 div.sk-toggleable {background-color: white;}#sk-container-id-1 label.sk-toggleable__label {cursor: pointer;display: block;width: 100%;margin-bottom: 0;padding: 0.3em;box-sizing: border-box;text-align: center;}#sk-container-id-1 label.sk-toggleable__label-arrow:before {content: \"▸\";float: left;margin-right: 0.25em;color: #696969;}#sk-container-id-1 label.sk-toggleable__label-arrow:hover:before {color: black;}#sk-container-id-1 div.sk-estimator:hover label.sk-toggleable__label-arrow:before {color: black;}#sk-container-id-1 div.sk-toggleable__content {max-height: 0;max-width: 0;overflow: hidden;text-align: left;background-color: #f0f8ff;}#sk-container-id-1 div.sk-toggleable__content pre {margin: 0.2em;color: black;border-radius: 0.25em;background-color: #f0f8ff;}#sk-container-id-1 input.sk-toggleable__control:checked~div.sk-toggleable__content {max-height: 200px;max-width: 100%;overflow: auto;}#sk-container-id-1 input.sk-toggleable__control:checked~label.sk-toggleable__label-arrow:before {content: \"▾\";}#sk-container-id-1 div.sk-estimator input.sk-toggleable__control:checked~label.sk-toggleable__label {background-color: #d4ebff;}#sk-container-id-1 div.sk-label input.sk-toggleable__control:checked~label.sk-toggleable__label {background-color: #d4ebff;}#sk-container-id-1 input.sk-hidden--visually {border: 0;clip: rect(1px 1px 1px 1px);clip: rect(1px, 1px, 1px, 1px);height: 1px;margin: -1px;overflow: hidden;padding: 0;position: absolute;width: 1px;}#sk-container-id-1 div.sk-estimator {font-family: monospace;background-color: #f0f8ff;border: 1px dotted black;border-radius: 0.25em;box-sizing: border-box;margin-bottom: 0.5em;}#sk-container-id-1 div.sk-estimator:hover {background-color: #d4ebff;}#sk-container-id-1 div.sk-parallel-item::after {content: \"\";width: 100%;border-bottom: 1px solid gray;flex-grow: 1;}#sk-container-id-1 div.sk-label:hover label.sk-toggleable__label {background-color: #d4ebff;}#sk-container-id-1 div.sk-serial::before {content: \"\";position: absolute;border-left: 1px solid gray;box-sizing: border-box;top: 0;bottom: 0;left: 50%;z-index: 0;}#sk-container-id-1 div.sk-serial {display: flex;flex-direction: column;align-items: center;background-color: white;padding-right: 0.2em;padding-left: 0.2em;position: relative;}#sk-container-id-1 div.sk-item {position: relative;z-index: 1;}#sk-container-id-1 div.sk-parallel {display: flex;align-items: stretch;justify-content: center;background-color: white;position: relative;}#sk-container-id-1 div.sk-item::before, #sk-container-id-1 div.sk-parallel-item::before {content: \"\";position: absolute;border-left: 1px solid gray;box-sizing: border-box;top: 0;bottom: 0;left: 50%;z-index: -1;}#sk-container-id-1 div.sk-parallel-item {display: flex;flex-direction: column;z-index: 1;position: relative;background-color: white;}#sk-container-id-1 div.sk-parallel-item:first-child::after {align-self: flex-end;width: 50%;}#sk-container-id-1 div.sk-parallel-item:last-child::after {align-self: flex-start;width: 50%;}#sk-container-id-1 div.sk-parallel-item:only-child::after {width: 0;}#sk-container-id-1 div.sk-dashed-wrapped {border: 1px dashed gray;margin: 0 0.4em 0.5em 0.4em;box-sizing: border-box;padding-bottom: 0.4em;background-color: white;}#sk-container-id-1 div.sk-label label {font-family: monospace;font-weight: bold;display: inline-block;line-height: 1.2em;}#sk-container-id-1 div.sk-label-container {text-align: center;}#sk-container-id-1 div.sk-container {/* jupyter's `normalize.less` sets `[hidden] { display: none; }` but bootstrap.min.css set `[hidden] { display: none !important; }` so we also need the `!important` here to be able to override the default hidden behavior on the sphinx rendered scikit-learn.org. See: https://github.com/scikit-learn/scikit-learn/issues/21755 */display: inline-block !important;position: relative;}#sk-container-id-1 div.sk-text-repr-fallback {display: none;}</style><div id=\"sk-container-id-1\" class=\"sk-top-container\"><div class=\"sk-text-repr-fallback\"><pre>GaussianNB()</pre><b>In a Jupyter environment, please rerun this cell to show the HTML representation or trust the notebook. <br />On GitHub, the HTML representation is unable to render, please try loading this page with nbviewer.org.</b></div><div class=\"sk-container\" hidden><div class=\"sk-item\"><div class=\"sk-estimator sk-toggleable\"><input class=\"sk-toggleable__control sk-hidden--visually\" id=\"sk-estimator-id-1\" type=\"checkbox\" checked><label for=\"sk-estimator-id-1\" class=\"sk-toggleable__label sk-toggleable__label-arrow\">GaussianNB</label><div class=\"sk-toggleable__content\"><pre>GaussianNB()</pre></div></div></div></div></div>"
            ]
          },
          "metadata": {},
          "execution_count": 27
        }
      ]
    },
    {
      "cell_type": "markdown",
      "source": [
        "Make predictions on the **x_test** data and the prediction results will be stored in the **y_pred** variable"
      ],
      "metadata": {
        "id": "rh9Qee9BTpJQ"
      }
    },
    {
      "cell_type": "code",
      "source": [
        "y_pred = classifier.predict(x_test)"
      ],
      "metadata": {
        "id": "BuyKdReETveU"
      },
      "execution_count": 28,
      "outputs": []
    },
    {
      "cell_type": "markdown",
      "source": [
        "#### Accuracy Check and Evaluation"
      ],
      "metadata": {
        "id": "PZVCmtwqUJCp"
      }
    },
    {
      "cell_type": "markdown",
      "source": [
        "in this process we calculate the confusion matrix, accuracy, and classification report from the predicted results compared to the actual value"
      ],
      "metadata": {
        "id": "0gC-lUeYVb6x"
      }
    },
    {
      "cell_type": "markdown",
      "source": [
        "Import the **confusion_matrix, accuracy_score, classification_report**  module from the **sklearn.metrics** library"
      ],
      "metadata": {
        "id": "VJK1DBcQVLU-"
      }
    },
    {
      "cell_type": "code",
      "source": [
        "from sklearn.metrics import confusion_matrix, accuracy_score, classification_report"
      ],
      "metadata": {
        "id": "Z4CwZIukURte"
      },
      "execution_count": 29,
      "outputs": []
    },
    {
      "cell_type": "markdown",
      "source": [
        "Using the confusion_matrix function to calculate the confusion matrix by comparing the actual value **y_test** with the predicted result **y_pred** then the results of the confusion matrix will be stored in the **cm** variable"
      ],
      "metadata": {
        "id": "4xssS2oSVMJO"
      }
    },
    {
      "cell_type": "code",
      "source": [
        "cm = confusion_matrix(y_test, y_pred)"
      ],
      "metadata": {
        "id": "_ZvMPtYBVMnw"
      },
      "execution_count": 30,
      "outputs": []
    },
    {
      "cell_type": "markdown",
      "source": [
        "This command will print the number of correct predictions and the number of incorrect predictions based on the confusion matrix"
      ],
      "metadata": {
        "id": "LaX3wCB6WX9j"
      }
    },
    {
      "cell_type": "code",
      "source": [
        "print(\"Prediksi Benar   :\", cm[0, 0] + cm[1, 1], \"Data\")\n",
        "print(\"Prediksi Salah   :\", cm[0, 1] + cm[1, 0], \"Data\")"
      ],
      "metadata": {
        "colab": {
          "base_uri": "https://localhost:8080/"
        },
        "id": "i9tXixfRWYfG",
        "outputId": "ca386084-3acc-4150-ba24-3bc5a26a49ba"
      },
      "execution_count": 31,
      "outputs": [
        {
          "output_type": "stream",
          "name": "stdout",
          "text": [
            "Prediksi Benar   : 236 Data\n",
            "Prediksi Salah   : 40 Data\n"
          ]
        }
      ]
    },
    {
      "cell_type": "markdown",
      "source": [
        "Compares the actual label **y_test** with the predicted label **y_pred** and calculates prediction accuracy by comparing the number of correct predictions to the total amount of data"
      ],
      "metadata": {
        "id": "c8-9UrKzWY6k"
      }
    },
    {
      "cell_type": "code",
      "source": [
        "akurasi = accuracy_score(y_test, y_pred)"
      ],
      "metadata": {
        "id": "lp4WIcysXTTi"
      },
      "execution_count": 32,
      "outputs": []
    },
    {
      "cell_type": "markdown",
      "source": [
        "Print the accuracy value in the form of a percentage"
      ],
      "metadata": {
        "id": "Q37hNZNPXTsO"
      }
    },
    {
      "cell_type": "code",
      "source": [
        "print(\"Akurasi    : \", akurasi*100, \"%\")"
      ],
      "metadata": {
        "colab": {
          "base_uri": "https://localhost:8080/"
        },
        "id": "qX9v-bmiXUQW",
        "outputId": "94e93eb3-cb89-4570-9d0d-0268d0829902"
      },
      "execution_count": 33,
      "outputs": [
        {
          "output_type": "stream",
          "name": "stdout",
          "text": [
            "Akurasi    :  85.5072463768116 %\n"
          ]
        }
      ]
    },
    {
      "cell_type": "markdown",
      "source": [
        "Prints a classification report containing evaluation metrics such as precision, recall, and F1-score for each class in the classification problem"
      ],
      "metadata": {
        "id": "9QX5gyKYYdCE"
      }
    },
    {
      "cell_type": "code",
      "source": [
        "print(classification_report(y_test,y_pred))"
      ],
      "metadata": {
        "colab": {
          "base_uri": "https://localhost:8080/"
        },
        "id": "823qYZOkYdd4",
        "outputId": "a89e02d1-f573-4ed4-feba-ee0e032cf356"
      },
      "execution_count": 34,
      "outputs": [
        {
          "output_type": "stream",
          "name": "stdout",
          "text": [
            "              precision    recall  f1-score   support\n",
            "\n",
            "           0       0.82      0.83      0.82       113\n",
            "           1       0.88      0.87      0.88       163\n",
            "\n",
            "    accuracy                           0.86       276\n",
            "   macro avg       0.85      0.85      0.85       276\n",
            "weighted avg       0.86      0.86      0.86       276\n",
            "\n"
          ]
        }
      ]
    },
    {
      "cell_type": "markdown",
      "source": [
        "#### Visualization\n"
      ],
      "metadata": {
        "id": "RL7dLjSfaK2M"
      }
    },
    {
      "cell_type": "markdown",
      "source": [
        "Import the **seaboarn** library"
      ],
      "metadata": {
        "id": "8geklHJ0aLNP"
      }
    },
    {
      "cell_type": "code",
      "source": [
        "import seaborn as sns"
      ],
      "metadata": {
        "id": "Nv4OLKskaTHE"
      },
      "execution_count": 35,
      "outputs": []
    },
    {
      "cell_type": "markdown",
      "source": [
        "Create a heatmap that displays the Confusion Matrix"
      ],
      "metadata": {
        "id": "2715852baVub"
      }
    },
    {
      "cell_type": "code",
      "source": [
        "plt.figure(figsize=(8, 6))\n",
        "\n",
        "# Create a heatmap of the Confusion Matrix\n",
        "# The 'cm' variable represents the Confusion Matrix\n",
        "# Set annot=True to display the values inside the heatmap cells\n",
        "# Set fmt='d' to format the values as integers\n",
        "# Set cmap='Blues' to use a blue color palette for the heatmap\n",
        "sns.heatmap(cm, annot=True, fmt='d', cmap='Blues')\n",
        "plt.title('Confusion Matrix')\n",
        "plt.xlabel('Predicted Labels')\n",
        "plt.ylabel('True Labels')\n",
        "plt.show()"
      ],
      "metadata": {
        "colab": {
          "base_uri": "https://localhost:8080/",
          "height": 564
        },
        "id": "vPD4VR22aWLi",
        "outputId": "8e64e454-2291-411e-b93f-e2091b771d11"
      },
      "execution_count": 36,
      "outputs": [
        {
          "output_type": "display_data",
          "data": {
            "text/plain": [
              "<Figure size 800x600 with 2 Axes>"
            ],
            "image/png": "[encoded data removed]"
          },
          "metadata": {}
        }
      ]
    },
    {
      "cell_type": "markdown",
      "source": [
        "Import the **tabulate**  module from the **tabulate** library"
      ],
      "metadata": {
        "id": "Mm6TB4_taY07"
      }
    },
    {
      "cell_type": "code",
      "source": [
        "from tabulate import tabulate"
      ],
      "metadata": {
        "id": "9f6wJbskaZa5"
      },
      "execution_count": 37,
      "outputs": []
    },
    {
      "cell_type": "markdown",
      "source": [
        "We use the tabulate function to print a table using the data, headers, and predefined format"
      ],
      "metadata": {
        "id": "BURbzuptasIn"
      }
    },
    {
      "cell_type": "code",
      "source": [
        "print(tabulate({\"No \" : np.arange(1,y_test.size+1), \"Label Sebenarnya\" : y_test, \"Hasil Prediksi\" :y_pred},headers=\"keys\", tablefmt=\"grid\"))"
      ],
      "metadata": {
        "colab": {
          "base_uri": "https://localhost:8080/"
        },
        "id": "_JYzDLULasgk",
        "outputId": "80a59ad2-d378-4ee8-8988-7c8c89baa4ae"
      },
      "execution_count": 38,
      "outputs": [
        {
          "output_type": "stream",
          "name": "stdout",
          "text": [
            "+-------+--------------------+------------------+\n",
            "|   No  |   Label Sebenarnya |   Hasil Prediksi |\n",
            "+=======+====================+==================+\n",
            "|     1 |                  1 |                1 |\n",
            "+-------+--------------------+------------------+\n",
            "|     2 |                  0 |                0 |\n",
            "+-------+--------------------+------------------+\n",
            "|     3 |                  1 |                1 |\n",
            "+-------+--------------------+------------------+\n",
            "|     4 |                  1 |                1 |\n",
            "+-------+--------------------+------------------+\n",
            "|     5 |                  0 |                0 |\n",
            "+-------+--------------------+------------------+\n",
            "|     6 |                  0 |                0 |\n",
            "+-------+--------------------+------------------+\n",
            "|     7 |                  0 |                0 |\n",
            "+-------+--------------------+------------------+\n",
            "|     8 |                  0 |                0 |\n",
            "+-------+--------------------+------------------+\n",
            "|     9 |                  0 |                0 |\n",
            "+-------+--------------------+------------------+\n",
            "|    10 |                  0 |                0 |\n",
            "+-------+--------------------+------------------+\n",
            "|    11 |                  1 |                1 |\n",
            "+-------+--------------------+------------------+\n",
            "|    12 |                  0 |                1 |\n",
            "+-------+--------------------+------------------+\n",
            "|    13 |                  1 |                1 |\n",
            "+-------+--------------------+------------------+\n",
            "|    14 |                  1 |                1 |\n",
            "+-------+--------------------+------------------+\n",
            "|    15 |                  0 |                0 |\n",
            "+-------+--------------------+------------------+\n",
            "|    16 |                  1 |                1 |\n",
            "+-------+--------------------+------------------+\n",
            "|    17 |                  1 |                1 |\n",
            "+-------+--------------------+------------------+\n",
            "|    18 |                  1 |                1 |\n",
            "+-------+--------------------+------------------+\n",
            "|    19 |                  1 |                1 |\n",
            "+-------+--------------------+------------------+\n",
            "|    20 |                  0 |                0 |\n",
            "+-------+--------------------+------------------+\n",
            "|    21 |                  1 |                1 |\n",
            "+-------+--------------------+------------------+\n",
            "|    22 |                  1 |                1 |\n",
            "+-------+--------------------+------------------+\n",
            "|    23 |                  1 |                1 |\n",
            "+-------+--------------------+------------------+\n",
            "|    24 |                  1 |                1 |\n",
            "+-------+--------------------+------------------+\n",
            "|    25 |                  0 |                0 |\n",
            "+-------+--------------------+------------------+\n",
            "|    26 |                  0 |                0 |\n",
            "+-------+--------------------+------------------+\n",
            "|    27 |                  1 |                1 |\n",
            "+-------+--------------------+------------------+\n",
            "|    28 |                  1 |                1 |\n",
            "+-------+--------------------+------------------+\n",
            "|    29 |                  0 |                1 |\n",
            "+-------+--------------------+------------------+\n",
            "|    30 |                  0 |                1 |\n",
            "+-------+--------------------+------------------+\n",
            "|    31 |                  1 |                1 |\n",
            "+-------+--------------------+------------------+\n",
            "|    32 |                  0 |                0 |\n",
            "+-------+--------------------+------------------+\n",
            "|    33 |                  0 |                0 |\n",
            "+-------+--------------------+------------------+\n",
            "|    34 |                  0 |                0 |\n",
            "+-------+--------------------+------------------+\n",
            "|    35 |                  1 |                1 |\n",
            "+-------+--------------------+------------------+\n",
            "|    36 |                  0 |                0 |\n",
            "+-------+--------------------+------------------+\n",
            "|    37 |                  1 |                1 |\n",
            "+-------+--------------------+------------------+\n",
            "|    38 |                  0 |                0 |\n",
            "+-------+--------------------+------------------+\n",
            "|    39 |                  1 |                1 |\n",
            "+-------+--------------------+------------------+\n",
            "|    40 |                  0 |                0 |\n",
            "+-------+--------------------+------------------+\n",
            "|    41 |                  0 |                0 |\n",
            "+-------+--------------------+------------------+\n",
            "|    42 |                  1 |                1 |\n",
            "+-------+--------------------+------------------+\n",
            "|    43 |                  1 |                1 |\n",
            "+-------+--------------------+------------------+\n",
            "|    44 |                  0 |                0 |\n",
            "+-------+--------------------+------------------+\n",
            "|    45 |                  1 |                1 |\n",
            "+-------+--------------------+------------------+\n",
            "|    46 |                  0 |                0 |\n",
            "+-------+--------------------+------------------+\n",
            "|    47 |                  0 |                0 |\n",
            "+-------+--------------------+------------------+\n",
            "|    48 |                  1 |                1 |\n",
            "+-------+--------------------+------------------+\n",
            "|    49 |                  1 |                1 |\n",
            "+-------+--------------------+------------------+\n",
            "|    50 |                  1 |                0 |\n",
            "+-------+--------------------+------------------+\n",
            "|    51 |                  1 |                1 |\n",
            "+-------+--------------------+------------------+\n",
            "|    52 |                  0 |                0 |\n",
            "+-------+--------------------+------------------+\n",
            "|    53 |                  0 |                0 |\n",
            "+-------+--------------------+------------------+\n",
            "|    54 |                  1 |                1 |\n",
            "+-------+--------------------+------------------+\n",
            "|    55 |                  1 |                1 |\n",
            "+-------+--------------------+------------------+\n",
            "|    56 |                  0 |                1 |\n",
            "+-------+--------------------+------------------+\n",
            "|    57 |                  1 |                1 |\n",
            "+-------+--------------------+------------------+\n",
            "|    58 |                  0 |                0 |\n",
            "+-------+--------------------+------------------+\n",
            "|    59 |                  1 |                1 |\n",
            "+-------+--------------------+------------------+\n",
            "|    60 |                  0 |                0 |\n",
            "+-------+--------------------+------------------+\n",
            "|    61 |                  1 |                1 |\n",
            "+-------+--------------------+------------------+\n",
            "|    62 |                  1 |                1 |\n",
            "+-------+--------------------+------------------+\n",
            "|    63 |                  1 |                1 |\n",
            "+-------+--------------------+------------------+\n",
            "|    64 |                  0 |                0 |\n",
            "+-------+--------------------+------------------+\n",
            "|    65 |                  1 |                1 |\n",
            "+-------+--------------------+------------------+\n",
            "|    66 |                  1 |                1 |\n",
            "+-------+--------------------+------------------+\n",
            "|    67 |                  1 |                1 |\n",
            "+-------+--------------------+------------------+\n",
            "|    68 |                  1 |                1 |\n",
            "+-------+--------------------+------------------+\n",
            "|    69 |                  1 |                1 |\n",
            "+-------+--------------------+------------------+\n",
            "|    70 |                  0 |                0 |\n",
            "+-------+--------------------+------------------+\n",
            "|    71 |                  1 |                1 |\n",
            "+-------+--------------------+------------------+\n",
            "|    72 |                  1 |                1 |\n",
            "+-------+--------------------+------------------+\n",
            "|    73 |                  1 |                0 |\n",
            "+-------+--------------------+------------------+\n",
            "|    74 |                  1 |                1 |\n",
            "+-------+--------------------+------------------+\n",
            "|    75 |                  1 |                1 |\n",
            "+-------+--------------------+------------------+\n",
            "|    76 |                  1 |                1 |\n",
            "+-------+--------------------+------------------+\n",
            "|    77 |                  1 |                1 |\n",
            "+-------+--------------------+------------------+\n",
            "|    78 |                  0 |                0 |\n",
            "+-------+--------------------+------------------+\n",
            "|    79 |                  1 |                0 |\n",
            "+-------+--------------------+------------------+\n",
            "|    80 |                  0 |                0 |\n",
            "+-------+--------------------+------------------+\n",
            "|    81 |                  0 |                1 |\n",
            "+-------+--------------------+------------------+\n",
            "|    82 |                  1 |                1 |\n",
            "+-------+--------------------+------------------+\n",
            "|    83 |                  0 |                0 |\n",
            "+-------+--------------------+------------------+\n",
            "|    84 |                  0 |                0 |\n",
            "+-------+--------------------+------------------+\n",
            "|    85 |                  1 |                1 |\n",
            "+-------+--------------------+------------------+\n",
            "|    86 |                  0 |                0 |\n",
            "+-------+--------------------+------------------+\n",
            "|    87 |                  0 |                1 |\n",
            "+-------+--------------------+------------------+\n",
            "|    88 |                  1 |                1 |\n",
            "+-------+--------------------+------------------+\n",
            "|    89 |                  1 |                1 |\n",
            "+-------+--------------------+------------------+\n",
            "|    90 |                  0 |                0 |\n",
            "+-------+--------------------+------------------+\n",
            "|    91 |                  0 |                0 |\n",
            "+-------+--------------------+------------------+\n",
            "|    92 |                  1 |                1 |\n",
            "+-------+--------------------+------------------+\n",
            "|    93 |                  0 |                0 |\n",
            "+-------+--------------------+------------------+\n",
            "|    94 |                  1 |                0 |\n",
            "+-------+--------------------+------------------+\n",
            "|    95 |                  1 |                1 |\n",
            "+-------+--------------------+------------------+\n",
            "|    96 |                  0 |                0 |\n",
            "+-------+--------------------+------------------+\n",
            "|    97 |                  1 |                1 |\n",
            "+-------+--------------------+------------------+\n",
            "|    98 |                  0 |                0 |\n",
            "+-------+--------------------+------------------+\n",
            "|    99 |                  0 |                0 |\n",
            "+-------+--------------------+------------------+\n",
            "|   100 |                  0 |                0 |\n",
            "+-------+--------------------+------------------+\n",
            "|   101 |                  1 |                1 |\n",
            "+-------+--------------------+------------------+\n",
            "|   102 |                  1 |                1 |\n",
            "+-------+--------------------+------------------+\n",
            "|   103 |                  0 |                1 |\n",
            "+-------+--------------------+------------------+\n",
            "|   104 |                  1 |                1 |\n",
            "+-------+--------------------+------------------+\n",
            "|   105 |                  1 |                1 |\n",
            "+-------+--------------------+------------------+\n",
            "|   106 |                  1 |                1 |\n",
            "+-------+--------------------+------------------+\n",
            "|   107 |                  0 |                1 |\n",
            "+-------+--------------------+------------------+\n",
            "|   108 |                  0 |                0 |\n",
            "+-------+--------------------+------------------+\n",
            "|   109 |                  0 |                0 |\n",
            "+-------+--------------------+------------------+\n",
            "|   110 |                  1 |                1 |\n",
            "+-------+--------------------+------------------+\n",
            "|   111 |                  0 |                1 |\n",
            "+-------+--------------------+------------------+\n",
            "|   112 |                  1 |                1 |\n",
            "+-------+--------------------+------------------+\n",
            "|   113 |                  0 |                0 |\n",
            "+-------+--------------------+------------------+\n",
            "|   114 |                  1 |                1 |\n",
            "+-------+--------------------+------------------+\n",
            "|   115 |                  1 |                1 |\n",
            "+-------+--------------------+------------------+\n",
            "|   116 |                  1 |                1 |\n",
            "+-------+--------------------+------------------+\n",
            "|   117 |                  1 |                1 |\n",
            "+-------+--------------------+------------------+\n",
            "|   118 |                  0 |                0 |\n",
            "+-------+--------------------+------------------+\n",
            "|   119 |                  1 |                1 |\n",
            "+-------+--------------------+------------------+\n",
            "|   120 |                  1 |                1 |\n",
            "+-------+--------------------+------------------+\n",
            "|   121 |                  1 |                1 |\n",
            "+-------+--------------------+------------------+\n",
            "|   122 |                  1 |                0 |\n",
            "+-------+--------------------+------------------+\n",
            "|   123 |                  1 |                1 |\n",
            "+-------+--------------------+------------------+\n",
            "|   124 |                  0 |                0 |\n",
            "+-------+--------------------+------------------+\n",
            "|   125 |                  0 |                0 |\n",
            "+-------+--------------------+------------------+\n",
            "|   126 |                  1 |                0 |\n",
            "+-------+--------------------+------------------+\n",
            "|   127 |                  0 |                0 |\n",
            "+-------+--------------------+------------------+\n",
            "|   128 |                  1 |                1 |\n",
            "+-------+--------------------+------------------+\n",
            "|   129 |                  0 |                0 |\n",
            "+-------+--------------------+------------------+\n",
            "|   130 |                  1 |                1 |\n",
            "+-------+--------------------+------------------+\n",
            "|   131 |                  1 |                0 |\n",
            "+-------+--------------------+------------------+\n",
            "|   132 |                  1 |                1 |\n",
            "+-------+--------------------+------------------+\n",
            "|   133 |                  0 |                1 |\n",
            "+-------+--------------------+------------------+\n",
            "|   134 |                  1 |                1 |\n",
            "+-------+--------------------+------------------+\n",
            "|   135 |                  1 |                1 |\n",
            "+-------+--------------------+------------------+\n",
            "|   136 |                  1 |                0 |\n",
            "+-------+--------------------+------------------+\n",
            "|   137 |                  0 |                1 |\n",
            "+-------+--------------------+------------------+\n",
            "|   138 |                  1 |                1 |\n",
            "+-------+--------------------+------------------+\n",
            "|   139 |                  0 |                0 |\n",
            "+-------+--------------------+------------------+\n",
            "|   140 |                  0 |                0 |\n",
            "+-------+--------------------+------------------+\n",
            "|   141 |                  1 |                0 |\n",
            "+-------+--------------------+------------------+\n",
            "|   142 |                  1 |                1 |\n",
            "+-------+--------------------+------------------+\n",
            "|   143 |                  0 |                0 |\n",
            "+-------+--------------------+------------------+\n",
            "|   144 |                  1 |                1 |\n",
            "+-------+--------------------+------------------+\n",
            "|   145 |                  0 |                0 |\n",
            "+-------+--------------------+------------------+\n",
            "|   146 |                  0 |                0 |\n",
            "+-------+--------------------+------------------+\n",
            "|   147 |                  1 |                1 |\n",
            "+-------+--------------------+------------------+\n",
            "|   148 |                  1 |                1 |\n",
            "+-------+--------------------+------------------+\n",
            "|   149 |                  1 |                1 |\n",
            "+-------+--------------------+------------------+\n",
            "|   150 |                  1 |                1 |\n",
            "+-------+--------------------+------------------+\n",
            "|   151 |                  1 |                0 |\n",
            "+-------+--------------------+------------------+\n",
            "|   152 |                  1 |                1 |\n",
            "+-------+--------------------+------------------+\n",
            "|   153 |                  0 |                0 |\n",
            "+-------+--------------------+------------------+\n",
            "|   154 |                  0 |                0 |\n",
            "+-------+--------------------+------------------+\n",
            "|   155 |                  0 |                0 |\n",
            "+-------+--------------------+------------------+\n",
            "|   156 |                  0 |                0 |\n",
            "+-------+--------------------+------------------+\n",
            "|   157 |                  1 |                1 |\n",
            "+-------+--------------------+------------------+\n",
            "|   158 |                  1 |                1 |\n",
            "+-------+--------------------+------------------+\n",
            "|   159 |                  1 |                1 |\n",
            "+-------+--------------------+------------------+\n",
            "|   160 |                  0 |                0 |\n",
            "+-------+--------------------+------------------+\n",
            "|   161 |                  1 |                0 |\n",
            "+-------+--------------------+------------------+\n",
            "|   162 |                  1 |                0 |\n",
            "+-------+--------------------+------------------+\n",
            "|   163 |                  1 |                1 |\n",
            "+-------+--------------------+------------------+\n",
            "|   164 |                  0 |                1 |\n",
            "+-------+--------------------+------------------+\n",
            "|   165 |                  1 |                1 |\n",
            "+-------+--------------------+------------------+\n",
            "|   166 |                  0 |                1 |\n",
            "+-------+--------------------+------------------+\n",
            "|   167 |                  1 |                1 |\n",
            "+-------+--------------------+------------------+\n",
            "|   168 |                  0 |                0 |\n",
            "+-------+--------------------+------------------+\n",
            "|   169 |                  1 |                1 |\n",
            "+-------+--------------------+------------------+\n",
            "|   170 |                  1 |                1 |\n",
            "+-------+--------------------+------------------+\n",
            "|   171 |                  1 |                1 |\n",
            "+-------+--------------------+------------------+\n",
            "|   172 |                  1 |                1 |\n",
            "+-------+--------------------+------------------+\n",
            "|   173 |                  0 |                0 |\n",
            "+-------+--------------------+------------------+\n",
            "|   174 |                  0 |                0 |\n",
            "+-------+--------------------+------------------+\n",
            "|   175 |                  1 |                0 |\n",
            "+-------+--------------------+------------------+\n",
            "|   176 |                  0 |                1 |\n",
            "+-------+--------------------+------------------+\n",
            "|   177 |                  0 |                1 |\n",
            "+-------+--------------------+------------------+\n",
            "|   178 |                  1 |                1 |\n",
            "+-------+--------------------+------------------+\n",
            "|   179 |                  0 |                0 |\n",
            "+-------+--------------------+------------------+\n",
            "|   180 |                  1 |                1 |\n",
            "+-------+--------------------+------------------+\n",
            "|   181 |                  1 |                1 |\n",
            "+-------+--------------------+------------------+\n",
            "|   182 |                  1 |                0 |\n",
            "+-------+--------------------+------------------+\n",
            "|   183 |                  0 |                0 |\n",
            "+-------+--------------------+------------------+\n",
            "|   184 |                  1 |                1 |\n",
            "+-------+--------------------+------------------+\n",
            "|   185 |                  1 |                1 |\n",
            "+-------+--------------------+------------------+\n",
            "|   186 |                  1 |                1 |\n",
            "+-------+--------------------+------------------+\n",
            "|   187 |                  0 |                0 |\n",
            "+-------+--------------------+------------------+\n",
            "|   188 |                  1 |                1 |\n",
            "+-------+--------------------+------------------+\n",
            "|   189 |                  1 |                1 |\n",
            "+-------+--------------------+------------------+\n",
            "|   190 |                  0 |                0 |\n",
            "+-------+--------------------+------------------+\n",
            "|   191 |                  0 |                0 |\n",
            "+-------+--------------------+------------------+\n",
            "|   192 |                  0 |                0 |\n",
            "+-------+--------------------+------------------+\n",
            "|   193 |                  1 |                1 |\n",
            "+-------+--------------------+------------------+\n",
            "|   194 |                  1 |                1 |\n",
            "+-------+--------------------+------------------+\n",
            "|   195 |                  1 |                0 |\n",
            "+-------+--------------------+------------------+\n",
            "|   196 |                  1 |                1 |\n",
            "+-------+--------------------+------------------+\n",
            "|   197 |                  1 |                0 |\n",
            "+-------+--------------------+------------------+\n",
            "|   198 |                  1 |                1 |\n",
            "+-------+--------------------+------------------+\n",
            "|   199 |                  1 |                1 |\n",
            "+-------+--------------------+------------------+\n",
            "|   200 |                  0 |                0 |\n",
            "+-------+--------------------+------------------+\n",
            "|   201 |                  1 |                1 |\n",
            "+-------+--------------------+------------------+\n",
            "|   202 |                  1 |                1 |\n",
            "+-------+--------------------+------------------+\n",
            "|   203 |                  1 |                1 |\n",
            "+-------+--------------------+------------------+\n",
            "|   204 |                  1 |                1 |\n",
            "+-------+--------------------+------------------+\n",
            "|   205 |                  1 |                1 |\n",
            "+-------+--------------------+------------------+\n",
            "|   206 |                  0 |                0 |\n",
            "+-------+--------------------+------------------+\n",
            "|   207 |                  0 |                0 |\n",
            "+-------+--------------------+------------------+\n",
            "|   208 |                  0 |                0 |\n",
            "+-------+--------------------+------------------+\n",
            "|   209 |                  1 |                1 |\n",
            "+-------+--------------------+------------------+\n",
            "|   210 |                  0 |                0 |\n",
            "+-------+--------------------+------------------+\n",
            "|   211 |                  1 |                1 |\n",
            "+-------+--------------------+------------------+\n",
            "|   212 |                  1 |                1 |\n",
            "+-------+--------------------+------------------+\n",
            "|   213 |                  0 |                0 |\n",
            "+-------+--------------------+------------------+\n",
            "|   214 |                  1 |                1 |\n",
            "+-------+--------------------+------------------+\n",
            "|   215 |                  0 |                0 |\n",
            "+-------+--------------------+------------------+\n",
            "|   216 |                  1 |                1 |\n",
            "+-------+--------------------+------------------+\n",
            "|   217 |                  0 |                1 |\n",
            "+-------+--------------------+------------------+\n",
            "|   218 |                  1 |                0 |\n",
            "+-------+--------------------+------------------+\n",
            "|   219 |                  1 |                1 |\n",
            "+-------+--------------------+------------------+\n",
            "|   220 |                  1 |                1 |\n",
            "+-------+--------------------+------------------+\n",
            "|   221 |                  1 |                1 |\n",
            "+-------+--------------------+------------------+\n",
            "|   222 |                  1 |                1 |\n",
            "+-------+--------------------+------------------+\n",
            "|   223 |                  1 |                1 |\n",
            "+-------+--------------------+------------------+\n",
            "|   224 |                  0 |                1 |\n",
            "+-------+--------------------+------------------+\n",
            "|   225 |                  0 |                1 |\n",
            "+-------+--------------------+------------------+\n",
            "|   226 |                  1 |                1 |\n",
            "+-------+--------------------+------------------+\n",
            "|   227 |                  0 |                0 |\n",
            "+-------+--------------------+------------------+\n",
            "|   228 |                  1 |                1 |\n",
            "+-------+--------------------+------------------+\n",
            "|   229 |                  1 |                1 |\n",
            "+-------+--------------------+------------------+\n",
            "|   230 |                  1 |                1 |\n",
            "+-------+--------------------+------------------+\n",
            "|   231 |                  0 |                0 |\n",
            "+-------+--------------------+------------------+\n",
            "|   232 |                  1 |                1 |\n",
            "+-------+--------------------+------------------+\n",
            "|   233 |                  0 |                1 |\n",
            "+-------+--------------------+------------------+\n",
            "|   234 |                  1 |                1 |\n",
            "+-------+--------------------+------------------+\n",
            "|   235 |                  1 |                0 |\n",
            "+-------+--------------------+------------------+\n",
            "|   236 |                  1 |                1 |\n",
            "+-------+--------------------+------------------+\n",
            "|   237 |                  1 |                1 |\n",
            "+-------+--------------------+------------------+\n",
            "|   238 |                  1 |                1 |\n",
            "+-------+--------------------+------------------+\n",
            "|   239 |                  0 |                0 |\n",
            "+-------+--------------------+------------------+\n",
            "|   240 |                  1 |                1 |\n",
            "+-------+--------------------+------------------+\n",
            "|   241 |                  1 |                1 |\n",
            "+-------+--------------------+------------------+\n",
            "|   242 |                  0 |                0 |\n",
            "+-------+--------------------+------------------+\n",
            "|   243 |                  1 |                1 |\n",
            "+-------+--------------------+------------------+\n",
            "|   244 |                  0 |                0 |\n",
            "+-------+--------------------+------------------+\n",
            "|   245 |                  1 |                1 |\n",
            "+-------+--------------------+------------------+\n",
            "|   246 |                  0 |                0 |\n",
            "+-------+--------------------+------------------+\n",
            "|   247 |                  0 |                0 |\n",
            "+-------+--------------------+------------------+\n",
            "|   248 |                  0 |                0 |\n",
            "+-------+--------------------+------------------+\n",
            "|   249 |                  1 |                1 |\n",
            "+-------+--------------------+------------------+\n",
            "|   250 |                  0 |                0 |\n",
            "+-------+--------------------+------------------+\n",
            "|   251 |                  1 |                1 |\n",
            "+-------+--------------------+------------------+\n",
            "|   252 |                  0 |                0 |\n",
            "+-------+--------------------+------------------+\n",
            "|   253 |                  1 |                1 |\n",
            "+-------+--------------------+------------------+\n",
            "|   254 |                  1 |                0 |\n",
            "+-------+--------------------+------------------+\n",
            "|   255 |                  0 |                0 |\n",
            "+-------+--------------------+------------------+\n",
            "|   256 |                  0 |                0 |\n",
            "+-------+--------------------+------------------+\n",
            "|   257 |                  1 |                1 |\n",
            "+-------+--------------------+------------------+\n",
            "|   258 |                  0 |                0 |\n",
            "+-------+--------------------+------------------+\n",
            "|   259 |                  0 |                0 |\n",
            "+-------+--------------------+------------------+\n",
            "|   260 |                  1 |                1 |\n",
            "+-------+--------------------+------------------+\n",
            "|   261 |                  0 |                0 |\n",
            "+-------+--------------------+------------------+\n",
            "|   262 |                  1 |                1 |\n",
            "+-------+--------------------+------------------+\n",
            "|   263 |                  1 |                1 |\n",
            "+-------+--------------------+------------------+\n",
            "|   264 |                  0 |                0 |\n",
            "+-------+--------------------+------------------+\n",
            "|   265 |                  0 |                0 |\n",
            "+-------+--------------------+------------------+\n",
            "|   266 |                  1 |                1 |\n",
            "+-------+--------------------+------------------+\n",
            "|   267 |                  0 |                0 |\n",
            "+-------+--------------------+------------------+\n",
            "|   268 |                  0 |                0 |\n",
            "+-------+--------------------+------------------+\n",
            "|   269 |                  1 |                1 |\n",
            "+-------+--------------------+------------------+\n",
            "|   270 |                  0 |                0 |\n",
            "+-------+--------------------+------------------+\n",
            "|   271 |                  0 |                0 |\n",
            "+-------+--------------------+------------------+\n",
            "|   272 |                  1 |                0 |\n",
            "+-------+--------------------+------------------+\n",
            "|   273 |                  1 |                1 |\n",
            "+-------+--------------------+------------------+\n",
            "|   274 |                  1 |                1 |\n",
            "+-------+--------------------+------------------+\n",
            "|   275 |                  1 |                1 |\n",
            "+-------+--------------------+------------------+\n",
            "|   276 |                  1 |                0 |\n",
            "+-------+--------------------+------------------+\n"
          ]
        }
      ]
    },
    {
      "cell_type": "markdown",
      "source": [
        "At each iteration of the for loop, the KNN model with the number of neighbors **i** will be trained using **x_train** and **y_train**. Next, predictions are made using **x_test**, and the error rate value is calculated by comparing the prediction with **y_test**. The **average value of pred_i != y_test** (mismatch between predictions and actual labels) will be calculated and stored in the error_rate list."
      ],
      "metadata": {
        "id": "61bEI4NXbRq7"
      }
    },
    {
      "cell_type": "markdown",
      "source": [
        "#### New Data Classification"
      ],
      "metadata": {
        "id": "q8-YGTZRcUsm"
      }
    },
    {
      "cell_type": "markdown",
      "source": [],
      "metadata": {
        "id": "nE4XdX8-Qu5h"
      }
    },
    {
      "cell_type": "markdown",
      "source": [],
      "metadata": {
        "id": "TG8Bbk5ieq75"
      }
    },
    {
      "cell_type": "code",
      "source": [
        "data.head()"
      ],
      "metadata": {
        "colab": {
          "base_uri": "https://localhost:8080/",
          "height": 206
        },
        "id": "xA1Ob1lxQvpu",
        "outputId": "a71c3295-3414-4c69-ca9d-41083e205117"
      },
      "execution_count": 46,
      "outputs": [
        {
          "output_type": "execute_result",
          "data": {
            "text/plain": [
              "   Age  Sex  ChestPainType  RestingBP  Cholesterol  FastingBS  RestingECG  \\\n",
              "0   40    1              1        140          289          0           1   \n",
              "1   49    0              2        160          180          0           1   \n",
              "2   37    1              1        130          283          0           2   \n",
              "3   48    0              0        138          214          0           1   \n",
              "4   54    1              2        150          195          0           1   \n",
              "\n",
              "   MaxHR  ExerciseAngina  Oldpeak  ST_Slope  HeartDisease  \n",
              "0    172               0      0.0         2             0  \n",
              "1    156               0      1.0         1             1  \n",
              "2     98               0      0.0         2             0  \n",
              "3    108               1      1.5         1             1  \n",
              "4    122               0      0.0         2             0  "
            ],
            "text/html": [
              "\n",
              "  <div id=\"df-b5dd76dc-cccf-4fa4-8b1b-078aa1db42d3\">\n",
              "    <div class=\"colab-df-container\">\n",
              "      <div>\n",
              "<style scoped>\n",
              "    .dataframe tbody tr th:only-of-type {\n",
              "        vertical-align: middle;\n",
              "    }\n",
              "\n",
              "    .dataframe tbody tr th {\n",
              "        vertical-align: top;\n",
              "    }\n",
              "\n",
              "    .dataframe thead th {\n",
              "        text-align: right;\n",
              "    }\n",
              "</style>\n",
              "<table border=\"1\" class=\"dataframe\">\n",
              "  <thead>\n",
              "    <tr style=\"text-align: right;\">\n",
              "      <th></th>\n",
              "      <th>Age</th>\n",
              "      <th>Sex</th>\n",
              "      <th>ChestPainType</th>\n",
              "      <th>RestingBP</th>\n",
              "      <th>Cholesterol</th>\n",
              "      <th>FastingBS</th>\n",
              "      <th>RestingECG</th>\n",
              "      <th>MaxHR</th>\n",
              "      <th>ExerciseAngina</th>\n",
              "      <th>Oldpeak</th>\n",
              "      <th>ST_Slope</th>\n",
              "      <th>HeartDisease</th>\n",
              "    </tr>\n",
              "  </thead>\n",
              "  <tbody>\n",
              "    <tr>\n",
              "      <th>0</th>\n",
              "      <td>40</td>\n",
              "      <td>1</td>\n",
              "      <td>1</td>\n",
              "      <td>140</td>\n",
              "      <td>289</td>\n",
              "      <td>0</td>\n",
              "      <td>1</td>\n",
              "      <td>172</td>\n",
              "      <td>0</td>\n",
              "      <td>0.0</td>\n",
              "      <td>2</td>\n",
              "      <td>0</td>\n",
              "    </tr>\n",
              "    <tr>\n",
              "      <th>1</th>\n",
              "      <td>49</td>\n",
              "      <td>0</td>\n",
              "      <td>2</td>\n",
              "      <td>160</td>\n",
              "      <td>180</td>\n",
              "      <td>0</td>\n",
              "      <td>1</td>\n",
              "      <td>156</td>\n",
              "      <td>0</td>\n",
              "      <td>1.0</td>\n",
              "      <td>1</td>\n",
              "      <td>1</td>\n",
              "    </tr>\n",
              "    <tr>\n",
              "      <th>2</th>\n",
              "      <td>37</td>\n",
              "      <td>1</td>\n",
              "      <td>1</td>\n",
              "      <td>130</td>\n",
              "      <td>283</td>\n",
              "      <td>0</td>\n",
              "      <td>2</td>\n",
              "      <td>98</td>\n",
              "      <td>0</td>\n",
              "      <td>0.0</td>\n",
              "      <td>2</td>\n",
              "      <td>0</td>\n",
              "    </tr>\n",
              "    <tr>\n",
              "      <th>3</th>\n",
              "      <td>48</td>\n",
              "      <td>0</td>\n",
              "      <td>0</td>\n",
              "      <td>138</td>\n",
              "      <td>214</td>\n",
              "      <td>0</td>\n",
              "      <td>1</td>\n",
              "      <td>108</td>\n",
              "      <td>1</td>\n",
              "      <td>1.5</td>\n",
              "      <td>1</td>\n",
              "      <td>1</td>\n",
              "    </tr>\n",
              "    <tr>\n",
              "      <th>4</th>\n",
              "      <td>54</td>\n",
              "      <td>1</td>\n",
              "      <td>2</td>\n",
              "      <td>150</td>\n",
              "      <td>195</td>\n",
              "      <td>0</td>\n",
              "      <td>1</td>\n",
              "      <td>122</td>\n",
              "      <td>0</td>\n",
              "      <td>0.0</td>\n",
              "      <td>2</td>\n",
              "      <td>0</td>\n",
              "    </tr>\n",
              "  </tbody>\n",
              "</table>\n",
              "</div>\n",
              "      <button class=\"colab-df-convert\" onclick=\"convertToInteractive('df-b5dd76dc-cccf-4fa4-8b1b-078aa1db42d3')\"\n",
              "              title=\"Convert this dataframe to an interactive table.\"\n",
              "              style=\"display:none;\">\n",
              "        \n",
              "  <svg xmlns=\"http://www.w3.org/2000/svg\" height=\"24px\"viewBox=\"0 0 24 24\"\n",
              "       width=\"24px\">\n",
              "    <path d=\"M0 0h24v24H0V0z\" fill=\"none\"/>\n",
              "    <path d=\"M18.56 5.44l.94 2.06.94-2.06 2.06-.94-2.06-.94-.94-2.06-.94 2.06-2.06.94zm-11 1L8.5 8.5l.94-2.06 2.06-.94-2.06-.94L8.5 2.5l-.94 2.06-2.06.94zm10 10l.94 2.06.94-2.06 2.06-.94-2.06-.94-.94-2.06-.94 2.06-2.06.94z\"/><path d=\"M17.41 7.96l-1.37-1.37c-.4-.4-.92-.59-1.43-.59-.52 0-1.04.2-1.43.59L10.3 9.45l-7.72 7.72c-.78.78-.78 2.05 0 2.83L4 21.41c.39.39.9.59 1.41.59.51 0 1.02-.2 1.41-.59l7.78-7.78 2.81-2.81c.8-.78.8-2.07 0-2.86zM5.41 20L4 18.59l7.72-7.72 1.47 1.35L5.41 20z\"/>\n",
              "  </svg>\n",
              "      </button>\n",
              "      \n",
              "  <style>\n",
              "    .colab-df-container {\n",
              "      display:flex;\n",
              "      flex-wrap:wrap;\n",
              "      gap: 12px;\n",
              "    }\n",
              "\n",
              "    .colab-df-convert {\n",
              "      background-color: #E8F0FE;\n",
              "      border: none;\n",
              "      border-radius: 50%;\n",
              "      cursor: pointer;\n",
              "      display: none;\n",
              "      fill: #1967D2;\n",
              "      height: 32px;\n",
              "      padding: 0 0 0 0;\n",
              "      width: 32px;\n",
              "    }\n",
              "\n",
              "    .colab-df-convert:hover {\n",
              "      background-color: #E2EBFA;\n",
              "      box-shadow: 0px 1px 2px rgba(60, 64, 67, 0.3), 0px 1px 3px 1px rgba(60, 64, 67, 0.15);\n",
              "      fill: #174EA6;\n",
              "    }\n",
              "\n",
              "    [theme=dark] .colab-df-convert {\n",
              "      background-color: #3B4455;\n",
              "      fill: #D2E3FC;\n",
              "    }\n",
              "\n",
              "    [theme=dark] .colab-df-convert:hover {\n",
              "      background-color: #434B5C;\n",
              "      box-shadow: 0px 1px 3px 1px rgba(0, 0, 0, 0.15);\n",
              "      filter: drop-shadow(0px 1px 2px rgba(0, 0, 0, 0.3));\n",
              "      fill: #FFFFFF;\n",
              "    }\n",
              "  </style>\n",
              "\n",
              "      <script>\n",
              "        const buttonEl =\n",
              "          document.querySelector('#df-b5dd76dc-cccf-4fa4-8b1b-078aa1db42d3 button.colab-df-convert');\n",
              "        buttonEl.style.display =\n",
              "          google.colab.kernel.accessAllowed ? 'block' : 'none';\n",
              "\n",
              "        async function convertToInteractive(key) {\n",
              "          const element = document.querySelector('#df-b5dd76dc-cccf-4fa4-8b1b-078aa1db42d3');\n",
              "          const dataTable =\n",
              "            await google.colab.kernel.invokeFunction('convertToInteractive',\n",
              "                                                     [key], {});\n",
              "          if (!dataTable) return;\n",
              "\n",
              "          const docLinkHtml = 'Like what you see? Visit the ' +\n",
              "            '<a target=\"_blank\" href=https://colab.research.google.com/notebooks/data_table.ipynb>data table notebook</a>'\n",
              "            + ' to learn more about interactive tables.';\n",
              "          element.innerHTML = '';\n",
              "          dataTable['output_type'] = 'display_data';\n",
              "          await google.colab.output.renderOutput(dataTable, element);\n",
              "          const docLink = document.createElement('div');\n",
              "          docLink.innerHTML = docLinkHtml;\n",
              "          element.appendChild(docLink);\n",
              "        }\n",
              "      </script>\n",
              "    </div>\n",
              "  </div>\n",
              "  "
            ]
          },
          "metadata": {},
          "execution_count": 46
        }
      ]
    },
    {
      "cell_type": "code",
      "source": [
        "new_data1 = [[20, 1, 3, 130, 200, 1, 2, 150, 0, 2.5, 1]]\n",
        "new_data2 = [[33, 0, 2, 142, 198, 0, 1, 161, 1, 1.2, 2]]\n",
        "new_data3 = [[40, 1, 0, 160, 240, 1, 0, 131, 0, 3.2, 1]]\n",
        "new_data4 = [[40, 1, 1, 140, 289, 0, 1, 172, 0, 0.0, 2]]"
      ],
      "metadata": {
        "id": "wOlsMagBbpLx"
      },
      "execution_count": 47,
      "outputs": []
    },
    {
      "cell_type": "code",
      "source": [
        "new_data1 = sc.fit_transform(new_data1)\n",
        "new_data2 = sc.fit_transform(new_data2)\n",
        "new_data3 = sc.fit_transform(new_data3)\n",
        "new_data4 = sc.fit_transform(new_data4)"
      ],
      "metadata": {
        "id": "6XG7753JQYdN"
      },
      "execution_count": 48,
      "outputs": []
    },
    {
      "cell_type": "markdown",
      "source": [],
      "metadata": {
        "id": "XX1DXLGzdSYq"
      }
    },
    {
      "cell_type": "code",
      "source": [
        "new_pred1 = classifier.predict(new_data1)\n",
        "new_pred2 = classifier.predict(new_data2)\n",
        "new_pred3 = classifier.predict(new_data3)\n",
        "new_pred4 = classifier.predict(new_data4)"
      ],
      "metadata": {
        "id": "b7gkvsUSdSza"
      },
      "execution_count": 49,
      "outputs": []
    },
    {
      "cell_type": "code",
      "source": [],
      "metadata": {
        "id": "dnFsP9ThQVIc"
      },
      "execution_count": null,
      "outputs": []
    },
    {
      "cell_type": "markdown",
      "source": [],
      "metadata": {
        "id": "M2zJ6CEydTN6"
      }
    },
    {
      "cell_type": "code",
      "source": [
        "print(\"Hasil Data 1: \", new_pred1)\n",
        "print(\"Hasil Data 2: \", new_pred2)\n",
        "print(\"Hasil Data 3: \", new_pred3)\n",
        "print(\"Hasil Data 4: \", new_pred4)"
      ],
      "metadata": {
        "colab": {
          "base_uri": "https://localhost:8080/"
        },
        "id": "EX7lUGcVdTol",
        "outputId": "29b706ed-14ed-4942-8c80-dc5dd9b93c24"
      },
      "execution_count": 50,
      "outputs": [
        {
          "output_type": "stream",
          "name": "stdout",
          "text": [
            "Hasil Data 1:  [0]\n",
            "Hasil Data 2:  [0]\n",
            "Hasil Data 3:  [0]\n",
            "Hasil Data 4:  [0]\n"
          ]
        }
      ]
    }
  ]
}